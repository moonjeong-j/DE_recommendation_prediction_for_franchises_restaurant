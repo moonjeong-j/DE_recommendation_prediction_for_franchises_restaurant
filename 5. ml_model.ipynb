{
 "cells": [
  {
   "cell_type": "code",
   "execution_count": 4,
   "metadata": {},
   "outputs": [],
   "source": [
    "import pandas as pd\n",
    "import numpy as np\n",
    "import matplotlib.pyplot as plt\n",
    "import seaborn as sns\n",
    "\n",
    "from sklearn.model_selection import train_test_split\n",
    "from sklearn.preprocessing import LabelEncoder\n",
    "from sklearn.metrics import roc_auc_score\n",
    "from sklearn.pipeline import make_pipeline\n",
    "from category_encoders import OrdinalEncoder\n",
    "\n",
    "from sklearn.model_selection import cross_val_score\n",
    "\n",
    "from sklearn.metrics import mean_absolute_error\n",
    "\n",
    "import pickle\n",
    "import joblib"
   ]
  },
  {
   "cell_type": "code",
   "execution_count": 5,
   "metadata": {},
   "outputs": [
    {
     "data": {
      "text/html": [
       "<div>\n",
       "<style scoped>\n",
       "    .dataframe tbody tr th:only-of-type {\n",
       "        vertical-align: middle;\n",
       "    }\n",
       "\n",
       "    .dataframe tbody tr th {\n",
       "        vertical-align: top;\n",
       "    }\n",
       "\n",
       "    .dataframe thead th {\n",
       "        text-align: right;\n",
       "    }\n",
       "</style>\n",
       "<table border=\"1\" class=\"dataframe\">\n",
       "  <thead>\n",
       "    <tr style=\"text-align: right;\">\n",
       "      <th></th>\n",
       "      <th>name</th>\n",
       "      <th>statff_cnt</th>\n",
       "      <th>cost_per_area</th>\n",
       "      <th>nums_of_franchisees</th>\n",
       "      <th>new_nums_of_franchisee</th>\n",
       "      <th>avr_sales</th>\n",
       "      <th>avr_sales_per_area</th>\n",
       "      <th>start_cost</th>\n",
       "      <th>category</th>\n",
       "      <th>year</th>\n",
       "      <th>debt_ratio</th>\n",
       "      <th>profit</th>\n",
       "      <th>fairness</th>\n",
       "      <th>growth</th>\n",
       "      <th>stability</th>\n",
       "    </tr>\n",
       "  </thead>\n",
       "  <tbody>\n",
       "    <tr>\n",
       "      <th>0</th>\n",
       "      <td>이디야커피</td>\n",
       "      <td>424</td>\n",
       "      <td>209.0</td>\n",
       "      <td>2875</td>\n",
       "      <td>305</td>\n",
       "      <td>18704.0</td>\n",
       "      <td>657.0</td>\n",
       "      <td>12913.0</td>\n",
       "      <td>커피</td>\n",
       "      <td>21</td>\n",
       "      <td>88</td>\n",
       "      <td>4</td>\n",
       "      <td>3</td>\n",
       "      <td>3</td>\n",
       "      <td>3</td>\n",
       "    </tr>\n",
       "    <tr>\n",
       "      <th>1</th>\n",
       "      <td>비비큐</td>\n",
       "      <td>233</td>\n",
       "      <td>203.0</td>\n",
       "      <td>1746</td>\n",
       "      <td>270</td>\n",
       "      <td>59456.0</td>\n",
       "      <td>4388.0</td>\n",
       "      <td>9078.0</td>\n",
       "      <td>치킨</td>\n",
       "      <td>28</td>\n",
       "      <td>58</td>\n",
       "      <td>3</td>\n",
       "      <td>3</td>\n",
       "      <td>4</td>\n",
       "      <td>3</td>\n",
       "    </tr>\n",
       "    <tr>\n",
       "      <th>2</th>\n",
       "      <td>비에이치씨(BHC)</td>\n",
       "      <td>167</td>\n",
       "      <td>225.0</td>\n",
       "      <td>1619</td>\n",
       "      <td>231</td>\n",
       "      <td>52103.0</td>\n",
       "      <td>2851.0</td>\n",
       "      <td>8543.0</td>\n",
       "      <td>치킨</td>\n",
       "      <td>19</td>\n",
       "      <td>205</td>\n",
       "      <td>5</td>\n",
       "      <td>3</td>\n",
       "      <td>4</td>\n",
       "      <td>4</td>\n",
       "    </tr>\n",
       "    <tr>\n",
       "      <th>3</th>\n",
       "      <td>배스킨라빈스</td>\n",
       "      <td>1816</td>\n",
       "      <td>390.0</td>\n",
       "      <td>1466</td>\n",
       "      <td>85</td>\n",
       "      <td>57170.0</td>\n",
       "      <td>3060.0</td>\n",
       "      <td>32335.0</td>\n",
       "      <td>아이스크림/빙수</td>\n",
       "      <td>37</td>\n",
       "      <td>24</td>\n",
       "      <td>4</td>\n",
       "      <td>3</td>\n",
       "      <td>3</td>\n",
       "      <td>2</td>\n",
       "    </tr>\n",
       "    <tr>\n",
       "      <th>4</th>\n",
       "      <td>투다리</td>\n",
       "      <td>16</td>\n",
       "      <td>298.0</td>\n",
       "      <td>1434</td>\n",
       "      <td>145</td>\n",
       "      <td>11251.0</td>\n",
       "      <td>790.0</td>\n",
       "      <td>4533.0</td>\n",
       "      <td>주점</td>\n",
       "      <td>35</td>\n",
       "      <td>126</td>\n",
       "      <td>5</td>\n",
       "      <td>3</td>\n",
       "      <td>4</td>\n",
       "      <td>3</td>\n",
       "    </tr>\n",
       "    <tr>\n",
       "      <th>...</th>\n",
       "      <td>...</td>\n",
       "      <td>...</td>\n",
       "      <td>...</td>\n",
       "      <td>...</td>\n",
       "      <td>...</td>\n",
       "      <td>...</td>\n",
       "      <td>...</td>\n",
       "      <td>...</td>\n",
       "      <td>...</td>\n",
       "      <td>...</td>\n",
       "      <td>...</td>\n",
       "      <td>...</td>\n",
       "      <td>...</td>\n",
       "      <td>...</td>\n",
       "      <td>...</td>\n",
       "    </tr>\n",
       "    <tr>\n",
       "      <th>2549</th>\n",
       "      <td>다코기</td>\n",
       "      <td>1</td>\n",
       "      <td>165.0</td>\n",
       "      <td>6</td>\n",
       "      <td>0</td>\n",
       "      <td>31174.0</td>\n",
       "      <td>1743.0</td>\n",
       "      <td>8132.0</td>\n",
       "      <td>치킨</td>\n",
       "      <td>8</td>\n",
       "      <td>99</td>\n",
       "      <td>5</td>\n",
       "      <td>3</td>\n",
       "      <td>2</td>\n",
       "      <td>3</td>\n",
       "    </tr>\n",
       "    <tr>\n",
       "      <th>2550</th>\n",
       "      <td>밀크밥버거</td>\n",
       "      <td>65</td>\n",
       "      <td>220.0</td>\n",
       "      <td>6</td>\n",
       "      <td>0</td>\n",
       "      <td>2657.0</td>\n",
       "      <td>194.0</td>\n",
       "      <td>3630.0</td>\n",
       "      <td>분식</td>\n",
       "      <td>17</td>\n",
       "      <td>1292</td>\n",
       "      <td>2</td>\n",
       "      <td>3</td>\n",
       "      <td>3</td>\n",
       "      <td>5</td>\n",
       "    </tr>\n",
       "    <tr>\n",
       "      <th>2551</th>\n",
       "      <td>전현주식당</td>\n",
       "      <td>2</td>\n",
       "      <td>220.0</td>\n",
       "      <td>6</td>\n",
       "      <td>6</td>\n",
       "      <td>44344.0</td>\n",
       "      <td>1239.0</td>\n",
       "      <td>8836.0</td>\n",
       "      <td>한식</td>\n",
       "      <td>3</td>\n",
       "      <td>141</td>\n",
       "      <td>4</td>\n",
       "      <td>3</td>\n",
       "      <td>0</td>\n",
       "      <td>4</td>\n",
       "    </tr>\n",
       "    <tr>\n",
       "      <th>2552</th>\n",
       "      <td>육개장터</td>\n",
       "      <td>3</td>\n",
       "      <td>220.0</td>\n",
       "      <td>6</td>\n",
       "      <td>0</td>\n",
       "      <td>6168.0</td>\n",
       "      <td>394.0</td>\n",
       "      <td>5450.0</td>\n",
       "      <td>한식</td>\n",
       "      <td>6</td>\n",
       "      <td>-176</td>\n",
       "      <td>1</td>\n",
       "      <td>3</td>\n",
       "      <td>1</td>\n",
       "      <td>1</td>\n",
       "    </tr>\n",
       "    <tr>\n",
       "      <th>2553</th>\n",
       "      <td>막돼먹은막창</td>\n",
       "      <td>1</td>\n",
       "      <td>110.0</td>\n",
       "      <td>5</td>\n",
       "      <td>1</td>\n",
       "      <td>20967.0</td>\n",
       "      <td>776.0</td>\n",
       "      <td>4710.0</td>\n",
       "      <td>한식</td>\n",
       "      <td>16</td>\n",
       "      <td>5</td>\n",
       "      <td>5</td>\n",
       "      <td>3</td>\n",
       "      <td>0</td>\n",
       "      <td>2</td>\n",
       "    </tr>\n",
       "  </tbody>\n",
       "</table>\n",
       "<p>1456 rows × 15 columns</p>\n",
       "</div>"
      ],
      "text/plain": [
       "            name  statff_cnt  cost_per_area  nums_of_franchisees  \\\n",
       "0          이디야커피         424          209.0                 2875   \n",
       "1            비비큐         233          203.0                 1746   \n",
       "2     비에이치씨(BHC)         167          225.0                 1619   \n",
       "3         배스킨라빈스        1816          390.0                 1466   \n",
       "4            투다리          16          298.0                 1434   \n",
       "...          ...         ...            ...                  ...   \n",
       "2549         다코기           1          165.0                    6   \n",
       "2550       밀크밥버거          65          220.0                    6   \n",
       "2551       전현주식당           2          220.0                    6   \n",
       "2552        육개장터           3          220.0                    6   \n",
       "2553      막돼먹은막창           1          110.0                    5   \n",
       "\n",
       "      new_nums_of_franchisee  avr_sales  avr_sales_per_area  start_cost  \\\n",
       "0                        305    18704.0               657.0     12913.0   \n",
       "1                        270    59456.0              4388.0      9078.0   \n",
       "2                        231    52103.0              2851.0      8543.0   \n",
       "3                         85    57170.0              3060.0     32335.0   \n",
       "4                        145    11251.0               790.0      4533.0   \n",
       "...                      ...        ...                 ...         ...   \n",
       "2549                       0    31174.0              1743.0      8132.0   \n",
       "2550                       0     2657.0               194.0      3630.0   \n",
       "2551                       6    44344.0              1239.0      8836.0   \n",
       "2552                       0     6168.0               394.0      5450.0   \n",
       "2553                       1    20967.0               776.0      4710.0   \n",
       "\n",
       "      category  year  debt_ratio  profit  fairness  growth  stability  \n",
       "0           커피    21          88       4         3       3          3  \n",
       "1           치킨    28          58       3         3       4          3  \n",
       "2           치킨    19         205       5         3       4          4  \n",
       "3     아이스크림/빙수    37          24       4         3       3          2  \n",
       "4           주점    35         126       5         3       4          3  \n",
       "...        ...   ...         ...     ...       ...     ...        ...  \n",
       "2549        치킨     8          99       5         3       2          3  \n",
       "2550        분식    17        1292       2         3       3          5  \n",
       "2551        한식     3         141       4         3       0          4  \n",
       "2552        한식     6        -176       1         3       1          1  \n",
       "2553        한식    16           5       5         3       0          2  \n",
       "\n",
       "[1456 rows x 15 columns]"
      ]
     },
     "execution_count": 5,
     "metadata": {},
     "output_type": "execute_result"
    }
   ],
   "source": [
    "df =pd.read_csv(\"df_inner_join.csv\", index_col=0)\n",
    "df"
   ]
  },
  {
   "cell_type": "code",
   "execution_count": 11,
   "metadata": {},
   "outputs": [
    {
     "data": {
      "text/plain": [
       "26523.00480769231"
      ]
     },
     "execution_count": 11,
     "metadata": {},
     "output_type": "execute_result"
    }
   ],
   "source": [
    "import numpy\n",
    "numpy.mean(df['avr_sales'])"
   ]
  },
  {
   "cell_type": "code",
   "execution_count": 6,
   "metadata": {},
   "outputs": [],
   "source": [
    "# 학습 / 평가 데이터셋을 분리합니다.\n",
    "train, test = train_test_split(df, test_size=0.2, random_state=42)\n",
    "train, val = train_test_split(train, test_size=0.2, random_state=42)\n",
    "\n",
    "\n",
    "# feature과 label을 분리합니다.\n",
    "\n",
    "target = \"avr_sales\"\n",
    "features = [\"statff_cnt\", \"cost_per_area\", \"nums_of_franchisees\", \"new_nums_of_franchisee\", \"start_cost\", \"category\", \"year\", \"debt_ratio\"]\n",
    "\n",
    "X_train, y_train = train[features], train[target]\n",
    "X_test, y_test = test[features], test[target]\n",
    "X_val, y_val = val[features], val[target]\n",
    "     "
   ]
  },
  {
   "cell_type": "code",
   "execution_count": 42,
   "metadata": {},
   "outputs": [
    {
     "name": "stdout",
     "output_type": "stream",
     "text": [
      "Pipeline(steps=[('ordinalencoder', OrdinalEncoder()),\n",
      "                ('xgbregressor',\n",
      "                 XGBRegressor(base_score=None, booster=None,\n",
      "                              colsample_bylevel=None, colsample_bynode=None,\n",
      "                              colsample_bytree=None, enable_categorical=False,\n",
      "                              eval_metric='rmse', gamma=None, gpu_id=None,\n",
      "                              importance_type=None,\n",
      "                              interaction_constraints=None, learning_rate=None,\n",
      "                              max_delta_step=None, max_depth=7,\n",
      "                              min_child_weight=None, missing=nan,\n",
      "                              monotone_constraints=None, n_estimators=200,\n",
      "                              n_jobs=-1, num_parallel_tree=None, predictor=None,\n",
      "                              random_state=42, reg_alpha=None, reg_lambda=None,\n",
      "                              scale_pos_weight=None, subsample=None,\n",
      "                              tree_method=None, validate_parameters=None,\n",
      "                              verbosity=None))])\n"
     ]
    }
   ],
   "source": [
    "from category_encoders import OrdinalEncoder\n",
    "from xgboost import XGBRegressor\n",
    "from sklearn.pipeline import make_pipeline\n",
    "\n",
    "pipe = make_pipeline(\n",
    "    OrdinalEncoder(),\n",
    "    XGBRegressor(\n",
    "        objective=\"reg:squarederror\", #objective=\"reg:squarederror\"\n",
    "        eval_metric=\"rmse\",  #eval_metric=\"rmse\"\n",
    "        n_estimators=200,\n",
    "        random_state=42,\n",
    "        n_jobs=-1,\n",
    "        max_depth=7,\n",
    "       \n",
    "        \n",
    "    ),\n",
    ")\n",
    "print(pipe)\n",
    "\n"
   ]
  },
  {
   "cell_type": "code",
   "execution_count": 48,
   "metadata": {},
   "outputs": [],
   "source": [
    "#하이퍼 파라미터 설정\n",
    "from scipy.stats.distributions import uniform\n",
    "\n",
    "params = {\n",
    "    \"xgbregressor__max_depth\": [2,4,6,8],\n",
    "    \"xgbregressor__min_child_weight\": [1, 3,5,7 , 10],\n",
    "    \"xgbregressor__colsample_bytree\": uniform(\n",
    "        loc=0.5, scale=0.5 \n",
    "    ),\n",
    "    'xgbregressor__gamma': [0.5, 1, 1.5, 2,3,4, 5],  \n",
    "    'xgbregressor__subsample': [0.6,0.7, 0.8,0.9, 1.0],\n",
    "}"
   ]
  },
  {
   "cell_type": "code",
   "execution_count": 49,
   "metadata": {},
   "outputs": [
    {
     "name": "stdout",
     "output_type": "stream",
     "text": [
      "Fitting 3 folds for each of 10 candidates, totalling 30 fits\n"
     ]
    },
    {
     "name": "stderr",
     "output_type": "stream",
     "text": [
      "/Users/moon/opt/anaconda3/envs/ds_study/lib/python3.8/site-packages/xgboost/data.py:250: FutureWarning: pandas.Int64Index is deprecated and will be removed from pandas in a future version. Use pandas.Index with the appropriate dtype instead.\n",
      "  elif isinstance(data.columns, (pd.Int64Index, pd.RangeIndex)):\n"
     ]
    },
    {
     "name": "stdout",
     "output_type": "stream",
     "text": [
      "[CV 1/3] END xgbregressor__colsample_bytree=0.6872700594236812, xgbregressor__gamma=3, xgbregressor__max_depth=6, xgbregressor__min_child_weight=5, xgbregressor__subsample=1.0;, score=-211366608.019 total time=   0.4s\n"
     ]
    },
    {
     "name": "stderr",
     "output_type": "stream",
     "text": [
      "/Users/moon/opt/anaconda3/envs/ds_study/lib/python3.8/site-packages/xgboost/data.py:250: FutureWarning: pandas.Int64Index is deprecated and will be removed from pandas in a future version. Use pandas.Index with the appropriate dtype instead.\n",
      "  elif isinstance(data.columns, (pd.Int64Index, pd.RangeIndex)):\n"
     ]
    },
    {
     "name": "stdout",
     "output_type": "stream",
     "text": [
      "[CV 2/3] END xgbregressor__colsample_bytree=0.6872700594236812, xgbregressor__gamma=3, xgbregressor__max_depth=6, xgbregressor__min_child_weight=5, xgbregressor__subsample=1.0;, score=-253153951.489 total time=   0.3s\n"
     ]
    },
    {
     "name": "stderr",
     "output_type": "stream",
     "text": [
      "/Users/moon/opt/anaconda3/envs/ds_study/lib/python3.8/site-packages/xgboost/data.py:250: FutureWarning: pandas.Int64Index is deprecated and will be removed from pandas in a future version. Use pandas.Index with the appropriate dtype instead.\n",
      "  elif isinstance(data.columns, (pd.Int64Index, pd.RangeIndex)):\n"
     ]
    },
    {
     "name": "stdout",
     "output_type": "stream",
     "text": [
      "[CV 3/3] END xgbregressor__colsample_bytree=0.6872700594236812, xgbregressor__gamma=3, xgbregressor__max_depth=6, xgbregressor__min_child_weight=5, xgbregressor__subsample=1.0;, score=-200552474.454 total time=   0.3s\n"
     ]
    },
    {
     "name": "stderr",
     "output_type": "stream",
     "text": [
      "/Users/moon/opt/anaconda3/envs/ds_study/lib/python3.8/site-packages/xgboost/data.py:250: FutureWarning: pandas.Int64Index is deprecated and will be removed from pandas in a future version. Use pandas.Index with the appropriate dtype instead.\n",
      "  elif isinstance(data.columns, (pd.Int64Index, pd.RangeIndex)):\n"
     ]
    },
    {
     "name": "stdout",
     "output_type": "stream",
     "text": [
      "[CV 1/3] END xgbregressor__colsample_bytree=0.7984250789732434, xgbregressor__gamma=1, xgbregressor__max_depth=6, xgbregressor__min_child_weight=5, xgbregressor__subsample=0.8;, score=-207437440.906 total time=   0.3s\n"
     ]
    },
    {
     "name": "stderr",
     "output_type": "stream",
     "text": [
      "/Users/moon/opt/anaconda3/envs/ds_study/lib/python3.8/site-packages/xgboost/data.py:250: FutureWarning: pandas.Int64Index is deprecated and will be removed from pandas in a future version. Use pandas.Index with the appropriate dtype instead.\n",
      "  elif isinstance(data.columns, (pd.Int64Index, pd.RangeIndex)):\n"
     ]
    },
    {
     "name": "stdout",
     "output_type": "stream",
     "text": [
      "[CV 2/3] END xgbregressor__colsample_bytree=0.7984250789732434, xgbregressor__gamma=1, xgbregressor__max_depth=6, xgbregressor__min_child_weight=5, xgbregressor__subsample=0.8;, score=-256962656.878 total time=   0.4s\n"
     ]
    },
    {
     "name": "stderr",
     "output_type": "stream",
     "text": [
      "/Users/moon/opt/anaconda3/envs/ds_study/lib/python3.8/site-packages/xgboost/data.py:250: FutureWarning: pandas.Int64Index is deprecated and will be removed from pandas in a future version. Use pandas.Index with the appropriate dtype instead.\n",
      "  elif isinstance(data.columns, (pd.Int64Index, pd.RangeIndex)):\n"
     ]
    },
    {
     "name": "stdout",
     "output_type": "stream",
     "text": [
      "[CV 3/3] END xgbregressor__colsample_bytree=0.7984250789732434, xgbregressor__gamma=1, xgbregressor__max_depth=6, xgbregressor__min_child_weight=5, xgbregressor__subsample=0.8;, score=-166056703.499 total time=   0.4s\n"
     ]
    },
    {
     "name": "stderr",
     "output_type": "stream",
     "text": [
      "/Users/moon/opt/anaconda3/envs/ds_study/lib/python3.8/site-packages/xgboost/data.py:250: FutureWarning: pandas.Int64Index is deprecated and will be removed from pandas in a future version. Use pandas.Index with the appropriate dtype instead.\n",
      "  elif isinstance(data.columns, (pd.Int64Index, pd.RangeIndex)):\n"
     ]
    },
    {
     "name": "stdout",
     "output_type": "stream",
     "text": [
      "[CV 1/3] END xgbregressor__colsample_bytree=0.9330880728874675, xgbregressor__gamma=2, xgbregressor__max_depth=8, xgbregressor__min_child_weight=5, xgbregressor__subsample=1.0;, score=-191690178.747 total time=   0.5s\n"
     ]
    },
    {
     "name": "stderr",
     "output_type": "stream",
     "text": [
      "/Users/moon/opt/anaconda3/envs/ds_study/lib/python3.8/site-packages/xgboost/data.py:250: FutureWarning: pandas.Int64Index is deprecated and will be removed from pandas in a future version. Use pandas.Index with the appropriate dtype instead.\n",
      "  elif isinstance(data.columns, (pd.Int64Index, pd.RangeIndex)):\n"
     ]
    },
    {
     "name": "stdout",
     "output_type": "stream",
     "text": [
      "[CV 2/3] END xgbregressor__colsample_bytree=0.9330880728874675, xgbregressor__gamma=2, xgbregressor__max_depth=8, xgbregressor__min_child_weight=5, xgbregressor__subsample=1.0;, score=-272281184.945 total time=   0.6s\n"
     ]
    },
    {
     "name": "stderr",
     "output_type": "stream",
     "text": [
      "/Users/moon/opt/anaconda3/envs/ds_study/lib/python3.8/site-packages/xgboost/data.py:250: FutureWarning: pandas.Int64Index is deprecated and will be removed from pandas in a future version. Use pandas.Index with the appropriate dtype instead.\n",
      "  elif isinstance(data.columns, (pd.Int64Index, pd.RangeIndex)):\n"
     ]
    },
    {
     "name": "stdout",
     "output_type": "stream",
     "text": [
      "[CV 3/3] END xgbregressor__colsample_bytree=0.9330880728874675, xgbregressor__gamma=2, xgbregressor__max_depth=8, xgbregressor__min_child_weight=5, xgbregressor__subsample=1.0;, score=-167230814.108 total time=   0.5s\n"
     ]
    },
    {
     "name": "stderr",
     "output_type": "stream",
     "text": [
      "/Users/moon/opt/anaconda3/envs/ds_study/lib/python3.8/site-packages/xgboost/data.py:250: FutureWarning: pandas.Int64Index is deprecated and will be removed from pandas in a future version. Use pandas.Index with the appropriate dtype instead.\n",
      "  elif isinstance(data.columns, (pd.Int64Index, pd.RangeIndex)):\n"
     ]
    },
    {
     "name": "stdout",
     "output_type": "stream",
     "text": [
      "[CV 1/3] END xgbregressor__colsample_bytree=0.9849549260809971, xgbregressor__gamma=2, xgbregressor__max_depth=4, xgbregressor__min_child_weight=3, xgbregressor__subsample=0.9;, score=-183451200.093 total time=   0.2s\n"
     ]
    },
    {
     "name": "stderr",
     "output_type": "stream",
     "text": [
      "/Users/moon/opt/anaconda3/envs/ds_study/lib/python3.8/site-packages/xgboost/data.py:250: FutureWarning: pandas.Int64Index is deprecated and will be removed from pandas in a future version. Use pandas.Index with the appropriate dtype instead.\n",
      "  elif isinstance(data.columns, (pd.Int64Index, pd.RangeIndex)):\n"
     ]
    },
    {
     "name": "stdout",
     "output_type": "stream",
     "text": [
      "[CV 2/3] END xgbregressor__colsample_bytree=0.9849549260809971, xgbregressor__gamma=2, xgbregressor__max_depth=4, xgbregressor__min_child_weight=3, xgbregressor__subsample=0.9;, score=-266466769.919 total time=   0.3s\n"
     ]
    },
    {
     "name": "stderr",
     "output_type": "stream",
     "text": [
      "/Users/moon/opt/anaconda3/envs/ds_study/lib/python3.8/site-packages/xgboost/data.py:250: FutureWarning: pandas.Int64Index is deprecated and will be removed from pandas in a future version. Use pandas.Index with the appropriate dtype instead.\n",
      "  elif isinstance(data.columns, (pd.Int64Index, pd.RangeIndex)):\n"
     ]
    },
    {
     "name": "stdout",
     "output_type": "stream",
     "text": [
      "[CV 3/3] END xgbregressor__colsample_bytree=0.9849549260809971, xgbregressor__gamma=2, xgbregressor__max_depth=4, xgbregressor__min_child_weight=3, xgbregressor__subsample=0.9;, score=-166423590.453 total time=   0.2s\n",
      "[CV 1/3] END xgbregressor__colsample_bytree=0.5917022549267169, xgbregressor__gamma=2, xgbregressor__max_depth=4, xgbregressor__min_child_weight=10, xgbregressor__subsample=0.9;, score=-211474150.703 total time=   0.2s\n"
     ]
    },
    {
     "name": "stderr",
     "output_type": "stream",
     "text": [
      "/Users/moon/opt/anaconda3/envs/ds_study/lib/python3.8/site-packages/xgboost/data.py:250: FutureWarning: pandas.Int64Index is deprecated and will be removed from pandas in a future version. Use pandas.Index with the appropriate dtype instead.\n",
      "  elif isinstance(data.columns, (pd.Int64Index, pd.RangeIndex)):\n",
      "/Users/moon/opt/anaconda3/envs/ds_study/lib/python3.8/site-packages/xgboost/data.py:250: FutureWarning: pandas.Int64Index is deprecated and will be removed from pandas in a future version. Use pandas.Index with the appropriate dtype instead.\n",
      "  elif isinstance(data.columns, (pd.Int64Index, pd.RangeIndex)):\n"
     ]
    },
    {
     "name": "stdout",
     "output_type": "stream",
     "text": [
      "[CV 2/3] END xgbregressor__colsample_bytree=0.5917022549267169, xgbregressor__gamma=2, xgbregressor__max_depth=4, xgbregressor__min_child_weight=10, xgbregressor__subsample=0.9;, score=-311326101.826 total time=   0.2s\n",
      "[CV 3/3] END xgbregressor__colsample_bytree=0.5917022549267169, xgbregressor__gamma=2, xgbregressor__max_depth=4, xgbregressor__min_child_weight=10, xgbregressor__subsample=0.9;, score=-203426277.699 total time=   0.2s\n"
     ]
    },
    {
     "name": "stderr",
     "output_type": "stream",
     "text": [
      "/Users/moon/opt/anaconda3/envs/ds_study/lib/python3.8/site-packages/xgboost/data.py:250: FutureWarning: pandas.Int64Index is deprecated and will be removed from pandas in a future version. Use pandas.Index with the appropriate dtype instead.\n",
      "  elif isinstance(data.columns, (pd.Int64Index, pd.RangeIndex)):\n",
      "/Users/moon/opt/anaconda3/envs/ds_study/lib/python3.8/site-packages/xgboost/data.py:250: FutureWarning: pandas.Int64Index is deprecated and will be removed from pandas in a future version. Use pandas.Index with the appropriate dtype instead.\n",
      "  elif isinstance(data.columns, (pd.Int64Index, pd.RangeIndex)):\n"
     ]
    },
    {
     "name": "stdout",
     "output_type": "stream",
     "text": [
      "[CV 1/3] END xgbregressor__colsample_bytree=0.5115312125207079, xgbregressor__gamma=1.5, xgbregressor__max_depth=6, xgbregressor__min_child_weight=3, xgbregressor__subsample=0.9;, score=-188055623.478 total time=   0.3s\n"
     ]
    },
    {
     "name": "stderr",
     "output_type": "stream",
     "text": [
      "/Users/moon/opt/anaconda3/envs/ds_study/lib/python3.8/site-packages/xgboost/data.py:250: FutureWarning: pandas.Int64Index is deprecated and will be removed from pandas in a future version. Use pandas.Index with the appropriate dtype instead.\n",
      "  elif isinstance(data.columns, (pd.Int64Index, pd.RangeIndex)):\n"
     ]
    },
    {
     "name": "stdout",
     "output_type": "stream",
     "text": [
      "[CV 2/3] END xgbregressor__colsample_bytree=0.5115312125207079, xgbregressor__gamma=1.5, xgbregressor__max_depth=6, xgbregressor__min_child_weight=3, xgbregressor__subsample=0.9;, score=-226056477.724 total time=   0.3s\n"
     ]
    },
    {
     "name": "stderr",
     "output_type": "stream",
     "text": [
      "/Users/moon/opt/anaconda3/envs/ds_study/lib/python3.8/site-packages/xgboost/data.py:250: FutureWarning: pandas.Int64Index is deprecated and will be removed from pandas in a future version. Use pandas.Index with the appropriate dtype instead.\n",
      "  elif isinstance(data.columns, (pd.Int64Index, pd.RangeIndex)):\n"
     ]
    },
    {
     "name": "stdout",
     "output_type": "stream",
     "text": [
      "[CV 3/3] END xgbregressor__colsample_bytree=0.5115312125207079, xgbregressor__gamma=1.5, xgbregressor__max_depth=6, xgbregressor__min_child_weight=3, xgbregressor__subsample=0.9;, score=-166177345.987 total time=   0.3s\n"
     ]
    },
    {
     "name": "stderr",
     "output_type": "stream",
     "text": [
      "/Users/moon/opt/anaconda3/envs/ds_study/lib/python3.8/site-packages/xgboost/data.py:250: FutureWarning: pandas.Int64Index is deprecated and will be removed from pandas in a future version. Use pandas.Index with the appropriate dtype instead.\n",
      "  elif isinstance(data.columns, (pd.Int64Index, pd.RangeIndex)):\n"
     ]
    },
    {
     "name": "stdout",
     "output_type": "stream",
     "text": [
      "[CV 1/3] END xgbregressor__colsample_bytree=0.9868777594207296, xgbregressor__gamma=5, xgbregressor__max_depth=4, xgbregressor__min_child_weight=5, xgbregressor__subsample=0.9;, score=-211121652.769 total time=   0.2s\n"
     ]
    },
    {
     "name": "stderr",
     "output_type": "stream",
     "text": [
      "/Users/moon/opt/anaconda3/envs/ds_study/lib/python3.8/site-packages/xgboost/data.py:250: FutureWarning: pandas.Int64Index is deprecated and will be removed from pandas in a future version. Use pandas.Index with the appropriate dtype instead.\n",
      "  elif isinstance(data.columns, (pd.Int64Index, pd.RangeIndex)):\n"
     ]
    },
    {
     "name": "stdout",
     "output_type": "stream",
     "text": [
      "[CV 2/3] END xgbregressor__colsample_bytree=0.9868777594207296, xgbregressor__gamma=5, xgbregressor__max_depth=4, xgbregressor__min_child_weight=5, xgbregressor__subsample=0.9;, score=-303222746.787 total time=   0.2s\n"
     ]
    },
    {
     "name": "stderr",
     "output_type": "stream",
     "text": [
      "/Users/moon/opt/anaconda3/envs/ds_study/lib/python3.8/site-packages/xgboost/data.py:250: FutureWarning: pandas.Int64Index is deprecated and will be removed from pandas in a future version. Use pandas.Index with the appropriate dtype instead.\n",
      "  elif isinstance(data.columns, (pd.Int64Index, pd.RangeIndex)):\n"
     ]
    },
    {
     "name": "stdout",
     "output_type": "stream",
     "text": [
      "[CV 3/3] END xgbregressor__colsample_bytree=0.9868777594207296, xgbregressor__gamma=5, xgbregressor__max_depth=4, xgbregressor__min_child_weight=5, xgbregressor__subsample=0.9;, score=-180443787.528 total time=   0.2s\n"
     ]
    },
    {
     "name": "stderr",
     "output_type": "stream",
     "text": [
      "/Users/moon/opt/anaconda3/envs/ds_study/lib/python3.8/site-packages/xgboost/data.py:250: FutureWarning: pandas.Int64Index is deprecated and will be removed from pandas in a future version. Use pandas.Index with the appropriate dtype instead.\n",
      "  elif isinstance(data.columns, (pd.Int64Index, pd.RangeIndex)):\n"
     ]
    },
    {
     "name": "stdout",
     "output_type": "stream",
     "text": [
      "[CV 1/3] END xgbregressor__colsample_bytree=0.7571172192068059, xgbregressor__gamma=0.5, xgbregressor__max_depth=6, xgbregressor__min_child_weight=10, xgbregressor__subsample=0.8;, score=-214712871.429 total time=   0.3s\n"
     ]
    },
    {
     "name": "stderr",
     "output_type": "stream",
     "text": [
      "/Users/moon/opt/anaconda3/envs/ds_study/lib/python3.8/site-packages/xgboost/data.py:250: FutureWarning: pandas.Int64Index is deprecated and will be removed from pandas in a future version. Use pandas.Index with the appropriate dtype instead.\n",
      "  elif isinstance(data.columns, (pd.Int64Index, pd.RangeIndex)):\n"
     ]
    },
    {
     "name": "stdout",
     "output_type": "stream",
     "text": [
      "[CV 2/3] END xgbregressor__colsample_bytree=0.7571172192068059, xgbregressor__gamma=0.5, xgbregressor__max_depth=6, xgbregressor__min_child_weight=10, xgbregressor__subsample=0.8;, score=-284472185.453 total time=   0.4s\n"
     ]
    },
    {
     "name": "stderr",
     "output_type": "stream",
     "text": [
      "/Users/moon/opt/anaconda3/envs/ds_study/lib/python3.8/site-packages/xgboost/data.py:250: FutureWarning: pandas.Int64Index is deprecated and will be removed from pandas in a future version. Use pandas.Index with the appropriate dtype instead.\n",
      "  elif isinstance(data.columns, (pd.Int64Index, pd.RangeIndex)):\n"
     ]
    },
    {
     "name": "stdout",
     "output_type": "stream",
     "text": [
      "[CV 3/3] END xgbregressor__colsample_bytree=0.7571172192068059, xgbregressor__gamma=0.5, xgbregressor__max_depth=6, xgbregressor__min_child_weight=10, xgbregressor__subsample=0.8;, score=-189534294.928 total time=   0.3s\n"
     ]
    },
    {
     "name": "stderr",
     "output_type": "stream",
     "text": [
      "/Users/moon/opt/anaconda3/envs/ds_study/lib/python3.8/site-packages/xgboost/data.py:250: FutureWarning: pandas.Int64Index is deprecated and will be removed from pandas in a future version. Use pandas.Index with the appropriate dtype instead.\n",
      "  elif isinstance(data.columns, (pd.Int64Index, pd.RangeIndex)):\n"
     ]
    },
    {
     "name": "stdout",
     "output_type": "stream",
     "text": [
      "[CV 1/3] END xgbregressor__colsample_bytree=0.8401537692938899, xgbregressor__gamma=0.5, xgbregressor__max_depth=6, xgbregressor__min_child_weight=3, xgbregressor__subsample=0.9;, score=-202149905.538 total time=   0.4s\n"
     ]
    },
    {
     "name": "stderr",
     "output_type": "stream",
     "text": [
      "/Users/moon/opt/anaconda3/envs/ds_study/lib/python3.8/site-packages/xgboost/data.py:250: FutureWarning: pandas.Int64Index is deprecated and will be removed from pandas in a future version. Use pandas.Index with the appropriate dtype instead.\n",
      "  elif isinstance(data.columns, (pd.Int64Index, pd.RangeIndex)):\n"
     ]
    },
    {
     "name": "stdout",
     "output_type": "stream",
     "text": [
      "[CV 2/3] END xgbregressor__colsample_bytree=0.8401537692938899, xgbregressor__gamma=0.5, xgbregressor__max_depth=6, xgbregressor__min_child_weight=3, xgbregressor__subsample=0.9;, score=-255734635.631 total time=   0.4s\n"
     ]
    },
    {
     "name": "stderr",
     "output_type": "stream",
     "text": [
      "/Users/moon/opt/anaconda3/envs/ds_study/lib/python3.8/site-packages/xgboost/data.py:250: FutureWarning: pandas.Int64Index is deprecated and will be removed from pandas in a future version. Use pandas.Index with the appropriate dtype instead.\n",
      "  elif isinstance(data.columns, (pd.Int64Index, pd.RangeIndex)):\n"
     ]
    },
    {
     "name": "stdout",
     "output_type": "stream",
     "text": [
      "[CV 3/3] END xgbregressor__colsample_bytree=0.8401537692938899, xgbregressor__gamma=0.5, xgbregressor__max_depth=6, xgbregressor__min_child_weight=3, xgbregressor__subsample=0.9;, score=-156020505.710 total time=   0.4s\n"
     ]
    },
    {
     "name": "stderr",
     "output_type": "stream",
     "text": [
      "/Users/moon/opt/anaconda3/envs/ds_study/lib/python3.8/site-packages/xgboost/data.py:250: FutureWarning: pandas.Int64Index is deprecated and will be removed from pandas in a future version. Use pandas.Index with the appropriate dtype instead.\n",
      "  elif isinstance(data.columns, (pd.Int64Index, pd.RangeIndex)):\n"
     ]
    },
    {
     "name": "stdout",
     "output_type": "stream",
     "text": [
      "[CV 1/3] END xgbregressor__colsample_bytree=0.9711008778424264, xgbregressor__gamma=4, xgbregressor__max_depth=4, xgbregressor__min_child_weight=3, xgbregressor__subsample=0.6;, score=-193055040.929 total time=   0.3s\n"
     ]
    },
    {
     "name": "stderr",
     "output_type": "stream",
     "text": [
      "/Users/moon/opt/anaconda3/envs/ds_study/lib/python3.8/site-packages/xgboost/data.py:250: FutureWarning: pandas.Int64Index is deprecated and will be removed from pandas in a future version. Use pandas.Index with the appropriate dtype instead.\n",
      "  elif isinstance(data.columns, (pd.Int64Index, pd.RangeIndex)):\n"
     ]
    },
    {
     "name": "stdout",
     "output_type": "stream",
     "text": [
      "[CV 2/3] END xgbregressor__colsample_bytree=0.9711008778424264, xgbregressor__gamma=4, xgbregressor__max_depth=4, xgbregressor__min_child_weight=3, xgbregressor__subsample=0.6;, score=-306259852.861 total time=   0.3s\n"
     ]
    },
    {
     "name": "stderr",
     "output_type": "stream",
     "text": [
      "/Users/moon/opt/anaconda3/envs/ds_study/lib/python3.8/site-packages/xgboost/data.py:250: FutureWarning: pandas.Int64Index is deprecated and will be removed from pandas in a future version. Use pandas.Index with the appropriate dtype instead.\n",
      "  elif isinstance(data.columns, (pd.Int64Index, pd.RangeIndex)):\n"
     ]
    },
    {
     "name": "stdout",
     "output_type": "stream",
     "text": [
      "[CV 3/3] END xgbregressor__colsample_bytree=0.9711008778424264, xgbregressor__gamma=4, xgbregressor__max_depth=4, xgbregressor__min_child_weight=3, xgbregressor__subsample=0.6;, score=-161641766.608 total time=   0.3s\n"
     ]
    },
    {
     "name": "stderr",
     "output_type": "stream",
     "text": [
      "/Users/moon/opt/anaconda3/envs/ds_study/lib/python3.8/site-packages/xgboost/data.py:250: FutureWarning: pandas.Int64Index is deprecated and will be removed from pandas in a future version. Use pandas.Index with the appropriate dtype instead.\n",
      "  elif isinstance(data.columns, (pd.Int64Index, pd.RangeIndex)):\n"
     ]
    },
    {
     "data": {
      "text/plain": [
       "RandomizedSearchCV(cv=3,\n",
       "                   estimator=Pipeline(steps=[('ordinalencoder',\n",
       "                                              OrdinalEncoder()),\n",
       "                                             ('xgbregressor',\n",
       "                                              XGBRegressor(base_score=None,\n",
       "                                                           booster=None,\n",
       "                                                           colsample_bylevel=None,\n",
       "                                                           colsample_bynode=None,\n",
       "                                                           colsample_bytree=None,\n",
       "                                                           enable_categorical=False,\n",
       "                                                           eval_metric='rmse',\n",
       "                                                           gamma=None,\n",
       "                                                           gpu_id=None,\n",
       "                                                           importance_type=None,\n",
       "                                                           interaction_constraints=None,\n",
       "                                                           learning_rate=None,\n",
       "                                                           max...\n",
       "                   param_distributions={'xgbregressor__colsample_bytree': <scipy.stats._distn_infrastructure.rv_frozen object at 0x7fb1d8e36b50>,\n",
       "                                        'xgbregressor__gamma': [0.5, 1, 1.5, 2,\n",
       "                                                                3, 4, 5],\n",
       "                                        'xgbregressor__max_depth': [2, 4, 6, 8],\n",
       "                                        'xgbregressor__min_child_weight': [1, 3,\n",
       "                                                                           5, 7,\n",
       "                                                                           10],\n",
       "                                        'xgbregressor__subsample': [0.6, 0.7,\n",
       "                                                                    0.8, 0.9,\n",
       "                                                                    1.0]},\n",
       "                   random_state=42, scoring='neg_mean_squared_error',\n",
       "                   verbose=3)"
      ]
     },
     "execution_count": 49,
     "metadata": {},
     "output_type": "execute_result"
    }
   ],
   "source": [
    "#randomizedserchCV를 통해 하이퍼파라미터 탐색\n",
    "from sklearn.model_selection import RandomizedSearchCV\n",
    "\n",
    "randomized_search = RandomizedSearchCV(\n",
    "    pipe,\n",
    "    param_distributions=params,\n",
    "    scoring=\"neg_mean_squared_error\",\n",
    "    n_iter=10,\n",
    "    cv=3,\n",
    "    verbose=3,\n",
    "    random_state=42,\n",
    ")\n",
    "randomized_search.fit(X_train, y_train)"
   ]
  },
  {
   "cell_type": "code",
   "execution_count": 50,
   "metadata": {},
   "outputs": [
    {
     "name": "stdout",
     "output_type": "stream",
     "text": [
      "최적 하이퍼파라미터:  {'xgbregressor__colsample_bytree': 0.5115312125207079, 'xgbregressor__gamma': 1.5, 'xgbregressor__max_depth': 6, 'xgbregressor__min_child_weight': 3, 'xgbregressor__subsample': 0.9}\n",
      "최적 F1:  -193429815.72971883\n"
     ]
    }
   ],
   "source": [
    "print(\"최적 하이퍼파라미터: \", randomized_search.best_params_)\n"
   ]
  },
  {
   "cell_type": "code",
   "execution_count": 116,
   "metadata": {},
   "outputs": [
    {
     "name": "stdout",
     "output_type": "stream",
     "text": [
      "Pipeline(steps=[('ordinalencoder', OrdinalEncoder()),\n",
      "                ('xgbregressor',\n",
      "                 XGBRegressor(base_score=None, booster=None,\n",
      "                              colsample_bylevel=None, colsample_bynode=None,\n",
      "                              colsample_bytree=0.5115312125207079,\n",
      "                              enable_categorical=False, eval_metric='rmse',\n",
      "                              gamma=1.5, gpu_id=None, importance_type=None,\n",
      "                              interaction_constraints=None, learning_rate=0.1,\n",
      "                              max_delta_step=None, max_depth=6,\n",
      "                              min_child_weight=3, missing=nan,\n",
      "                              monotone_constraints=None, n_estimators=200,\n",
      "                              n_jobs=-1, num_parallel_tree=None, predictor=None,\n",
      "                              random_state=42, reg_alpha=None, reg_lambda=None,\n",
      "                              scale_pos_weight=None, subsample=0.9,\n",
      "                              tree_method=None, validate_parameters=None,\n",
      "                              verbosity=None))])\n"
     ]
    }
   ],
   "source": [
    "#최적의 하이퍼파라미터 튜닝\n",
    "pipe = make_pipeline(\n",
    "    OrdinalEncoder(),\n",
    "    XGBRegressor(\n",
    "        objective=\"reg:squarederror\",\n",
    "        eval_metric=\"rmse\",  \n",
    "        n_estimators=200,\n",
    "        random_state=42,\n",
    "        n_jobs=-1,\n",
    "        ###\n",
    "        ###\n",
    "        max_depth=6,\n",
    "        learning_rate=0.1,\n",
    "        min_child_weight=3,\n",
    "        colsample_bytree=0.5115312125207079,\n",
    "        gamma=1.5,\n",
    "        subsample =0.9,\n",
    "        \n",
    "    ),\n",
    ")\n",
    "print(pipe)\n",
    "\n",
    "        "
   ]
  },
  {
   "cell_type": "code",
   "execution_count": 117,
   "metadata": {},
   "outputs": [
    {
     "name": "stderr",
     "output_type": "stream",
     "text": [
      "/Users/moon/opt/anaconda3/envs/ds_study/lib/python3.8/site-packages/xgboost/data.py:250: FutureWarning: pandas.Int64Index is deprecated and will be removed from pandas in a future version. Use pandas.Index with the appropriate dtype instead.\n",
      "  elif isinstance(data.columns, (pd.Int64Index, pd.RangeIndex)):\n"
     ]
    },
    {
     "data": {
      "text/plain": [
       "Pipeline(steps=[('ordinalencoder',\n",
       "                 OrdinalEncoder(cols=['category'],\n",
       "                                mapping=[{'col': 'category',\n",
       "                                          'data_type': dtype('O'),\n",
       "                                          'mapping': 기타 외식         1\n",
       "치킨            2\n",
       "한식            3\n",
       "주점            4\n",
       "제과제빵          5\n",
       "분식            6\n",
       "커피            7\n",
       "패스트푸드         8\n",
       "일식            9\n",
       "피자           10\n",
       "음료 (커피 외)    11\n",
       "중식           12\n",
       "기타 외국식       13\n",
       "서양식          14\n",
       "아이스크림/빙수     15\n",
       "NaN          -2\n",
       "dtype: int64}])),\n",
       "                ('xgbregressor',\n",
       "                 XGBRegressor(base_score=0.5, booster='gbtree',\n",
       "                              colsample_bylevel=1, colsample_bynode=1,\n",
       "                              colsample_bytree=0.5115312125...\n",
       "                              gamma=1.5, gpu_id=-1, importance_type=None,\n",
       "                              interaction_constraints='', learning_rate=0.1,\n",
       "                              max_delta_step=0, max_depth=6, min_child_weight=3,\n",
       "                              missing=nan, monotone_constraints='()',\n",
       "                              n_estimators=200, n_jobs=-1, num_parallel_tree=1,\n",
       "                              predictor='auto', random_state=42, reg_alpha=0,\n",
       "                              reg_lambda=1, scale_pos_weight=1, subsample=0.9,\n",
       "                              tree_method='exact', validate_parameters=1,\n",
       "                              verbosity=None))])"
      ]
     },
     "execution_count": 117,
     "metadata": {},
     "output_type": "execute_result"
    }
   ],
   "source": [
    "pipe.fit(X_train, y_train)"
   ]
  },
  {
   "cell_type": "code",
   "execution_count": 7,
   "metadata": {},
   "outputs": [],
   "source": [
    "y_pred_train = pipe.predict(X_train)\n",
    "y_pred_val = pipe.predict(X_val)"
   ]
  },
  {
   "cell_type": "code",
   "execution_count": 8,
   "metadata": {},
   "outputs": [
    {
     "name": "stdout",
     "output_type": "stream",
     "text": [
      "Root Mean Absolute Error: 77.15173924217659\n"
     ]
    }
   ],
   "source": [
    "# Calculate MAE\n",
    "\n",
    "rmse_pred = mean_absolute_error(y_val, y_pred_val) \n",
    "print(\"Root Mean Absolute Error:\" , np.sqrt(rmse_pred))\n"
   ]
  },
  {
   "cell_type": "code",
   "execution_count": 121,
   "metadata": {},
   "outputs": [
    {
     "data": {
      "text/plain": [
       "['sales_predict_model.pkl']"
      ]
     },
     "execution_count": 121,
     "metadata": {},
     "output_type": "execute_result"
    }
   ],
   "source": [
    "#모델저장하기\n",
    "joblib.dump(pipe, 'sales_predict_model.pkl') \n"
   ]
  }
 ],
 "metadata": {
  "kernelspec": {
   "display_name": "ds_study",
   "language": "python",
   "name": "python3"
  },
  "language_info": {
   "codemirror_mode": {
    "name": "ipython",
    "version": 3
   },
   "file_extension": ".py",
   "mimetype": "text/x-python",
   "name": "python",
   "nbconvert_exporter": "python",
   "pygments_lexer": "ipython3",
   "version": "3.8.12 (default, Oct 12 2021, 06:23:56) \n[Clang 10.0.0 ]"
  },
  "orig_nbformat": 4,
  "vscode": {
   "interpreter": {
    "hash": "ee17d55dc0ca9bce57a88b37df1d91484e5972bfb6f99f6b64b7675185bf3789"
   }
  }
 },
 "nbformat": 4,
 "nbformat_minor": 2
}
