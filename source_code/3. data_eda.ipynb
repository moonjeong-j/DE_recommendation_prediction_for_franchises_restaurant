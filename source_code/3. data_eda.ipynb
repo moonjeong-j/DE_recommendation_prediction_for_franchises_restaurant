{
 "cells": [
  {
   "cell_type": "code",
   "execution_count": 3,
   "metadata": {},
   "outputs": [],
   "source": [
    "import pandas as pd\n",
    "import matplotlib.pyplot as plt\n",
    "import seaborn as sns\n",
    "from matplotlib import rc\n",
    "%matplotlib inline\n",
    "rc('font', family='AppleGothic')"
   ]
  },
  {
   "cell_type": "code",
   "execution_count": null,
   "metadata": {},
   "outputs": [],
   "source": [
    "brand = pd.read_csv(\"df_all\")"
   ]
  },
  {
   "cell_type": "code",
   "execution_count": 12,
   "metadata": {},
   "outputs": [
    {
     "data": {
      "text/plain": [
       "한식           1586\n",
       "기타 외식         944\n",
       "커피            441\n",
       "치킨            421\n",
       "분식            400\n",
       "주점            376\n",
       "일식            222\n",
       "제과제빵          220\n",
       "서양식           165\n",
       "기타 외국식        117\n",
       "피자            115\n",
       "중식            110\n",
       "패스트푸드         106\n",
       "음료 (커피 외)      88\n",
       "아이스크림/빙수       63\n",
       "Name: 중분류업종, dtype: int64"
      ]
     },
     "execution_count": 12,
     "metadata": {},
     "output_type": "execute_result"
    }
   ],
   "source": [
    "brand['중분류업종'].value_counts()"
   ]
  },
  {
   "cell_type": "code",
   "execution_count": 14,
   "metadata": {},
   "outputs": [
    {
     "data": {
      "text/plain": [
       "한식           0.295125\n",
       "기타 외식        0.175661\n",
       "커피           0.082062\n",
       "치킨           0.078340\n",
       "분식           0.074432\n",
       "주점           0.069967\n",
       "일식           0.041310\n",
       "제과제빵         0.040938\n",
       "서양식          0.030703\n",
       "기타 외국식       0.021771\n",
       "피자           0.021399\n",
       "중식           0.020469\n",
       "패스트푸드        0.019725\n",
       "음료 (커피 외)    0.016375\n",
       "아이스크림/빙수     0.011723\n",
       "Name: 중분류업종, dtype: float64"
      ]
     },
     "execution_count": 14,
     "metadata": {},
     "output_type": "execute_result"
    }
   ],
   "source": [
    "brand['중분류업종'].value_counts(normalize=True)"
   ]
  },
  {
   "cell_type": "code",
   "execution_count": 43,
   "metadata": {},
   "outputs": [
    {
     "data": {
      "text/html": [
       "<div>\n",
       "<style scoped>\n",
       "    .dataframe tbody tr th:only-of-type {\n",
       "        vertical-align: middle;\n",
       "    }\n",
       "\n",
       "    .dataframe tbody tr th {\n",
       "        vertical-align: top;\n",
       "    }\n",
       "\n",
       "    .dataframe thead th {\n",
       "        text-align: right;\n",
       "    }\n",
       "</style>\n",
       "<table border=\"1\" class=\"dataframe\">\n",
       "  <thead>\n",
       "    <tr style=\"text-align: right;\">\n",
       "      <th></th>\n",
       "      <th>브랜드명</th>\n",
       "      <th>중분류업종</th>\n",
       "      <th>창업비용(단위:천원)</th>\n",
       "      <th>본사업력(년)</th>\n",
       "      <th>본사부채비율(%)</th>\n",
       "      <th>수익성</th>\n",
       "      <th>공정성</th>\n",
       "      <th>성장성</th>\n",
       "      <th>안정성</th>\n",
       "    </tr>\n",
       "  </thead>\n",
       "  <tbody>\n",
       "    <tr>\n",
       "      <th>0</th>\n",
       "      <td>이디야커피</td>\n",
       "      <td>커피</td>\n",
       "      <td>129,130</td>\n",
       "      <td>21</td>\n",
       "      <td>88</td>\n",
       "      <td>4</td>\n",
       "      <td>3</td>\n",
       "      <td>3</td>\n",
       "      <td>3</td>\n",
       "    </tr>\n",
       "    <tr>\n",
       "      <th>1</th>\n",
       "      <td>비비큐</td>\n",
       "      <td>치킨</td>\n",
       "      <td>90,789</td>\n",
       "      <td>28</td>\n",
       "      <td>58</td>\n",
       "      <td>3</td>\n",
       "      <td>3</td>\n",
       "      <td>4</td>\n",
       "      <td>3</td>\n",
       "    </tr>\n",
       "    <tr>\n",
       "      <th>2</th>\n",
       "      <td>비비큐(BBQ)</td>\n",
       "      <td>치킨</td>\n",
       "      <td>256,548</td>\n",
       "      <td>28</td>\n",
       "      <td>1500</td>\n",
       "      <td>2</td>\n",
       "      <td>2</td>\n",
       "      <td>3</td>\n",
       "      <td>5</td>\n",
       "    </tr>\n",
       "    <tr>\n",
       "      <th>3</th>\n",
       "      <td>비에이치씨(BHC)</td>\n",
       "      <td>치킨</td>\n",
       "      <td>85,436</td>\n",
       "      <td>19</td>\n",
       "      <td>205</td>\n",
       "      <td>5</td>\n",
       "      <td>3</td>\n",
       "      <td>4</td>\n",
       "      <td>4</td>\n",
       "    </tr>\n",
       "    <tr>\n",
       "      <th>4</th>\n",
       "      <td>배스킨라빈스</td>\n",
       "      <td>아이스크림/빙수</td>\n",
       "      <td>323,350</td>\n",
       "      <td>37</td>\n",
       "      <td>24</td>\n",
       "      <td>4</td>\n",
       "      <td>3</td>\n",
       "      <td>3</td>\n",
       "      <td>2</td>\n",
       "    </tr>\n",
       "    <tr>\n",
       "      <th>...</th>\n",
       "      <td>...</td>\n",
       "      <td>...</td>\n",
       "      <td>...</td>\n",
       "      <td>...</td>\n",
       "      <td>...</td>\n",
       "      <td>...</td>\n",
       "      <td>...</td>\n",
       "      <td>...</td>\n",
       "      <td>...</td>\n",
       "    </tr>\n",
       "    <tr>\n",
       "      <th>19</th>\n",
       "      <td>왕짱구</td>\n",
       "      <td>기타 외식</td>\n",
       "      <td>57,050</td>\n",
       "      <td>18</td>\n",
       "      <td>3</td>\n",
       "      <td>5</td>\n",
       "      <td>3</td>\n",
       "      <td>3</td>\n",
       "      <td>2</td>\n",
       "    </tr>\n",
       "    <tr>\n",
       "      <th>20</th>\n",
       "      <td>심민속촌</td>\n",
       "      <td>기타 외식</td>\n",
       "      <td>395,100</td>\n",
       "      <td>8</td>\n",
       "      <td>102</td>\n",
       "      <td>3</td>\n",
       "      <td>3</td>\n",
       "      <td>2</td>\n",
       "      <td>3</td>\n",
       "    </tr>\n",
       "    <tr>\n",
       "      <th>21</th>\n",
       "      <td>오늘게장</td>\n",
       "      <td>한식</td>\n",
       "      <td>35,100</td>\n",
       "      <td>3</td>\n",
       "      <td>-3594</td>\n",
       "      <td>2</td>\n",
       "      <td>3</td>\n",
       "      <td>0</td>\n",
       "      <td>1</td>\n",
       "    </tr>\n",
       "    <tr>\n",
       "      <th>22</th>\n",
       "      <td>모던타코</td>\n",
       "      <td>기타 외식</td>\n",
       "      <td>19,690</td>\n",
       "      <td>7</td>\n",
       "      <td>299</td>\n",
       "      <td>3</td>\n",
       "      <td>3</td>\n",
       "      <td>0</td>\n",
       "      <td>4</td>\n",
       "    </tr>\n",
       "    <tr>\n",
       "      <th>23</th>\n",
       "      <td>꽈르띠에</td>\n",
       "      <td>분식</td>\n",
       "      <td>36,100</td>\n",
       "      <td>3</td>\n",
       "      <td>342</td>\n",
       "      <td>1</td>\n",
       "      <td>3</td>\n",
       "      <td>0</td>\n",
       "      <td>5</td>\n",
       "    </tr>\n",
       "  </tbody>\n",
       "</table>\n",
       "<p>5374 rows × 9 columns</p>\n",
       "</div>"
      ],
      "text/plain": [
       "          브랜드명     중분류업종 창업비용(단위:천원) 본사업력(년) 본사부채비율(%)  수익성  공정성  성장성  안정성\n",
       "0        이디야커피        커피     129,130      21        88    4    3    3    3\n",
       "1          비비큐        치킨      90,789      28        58    3    3    4    3\n",
       "2     비비큐(BBQ)        치킨     256,548      28      1500    2    2    3    5\n",
       "3   비에이치씨(BHC)        치킨      85,436      19       205    5    3    4    4\n",
       "4       배스킨라빈스  아이스크림/빙수     323,350      37        24    4    3    3    2\n",
       "..         ...       ...         ...     ...       ...  ...  ...  ...  ...\n",
       "19         왕짱구     기타 외식      57,050      18         3    5    3    3    2\n",
       "20        심민속촌     기타 외식     395,100       8       102    3    3    2    3\n",
       "21        오늘게장        한식      35,100       3     -3594    2    3    0    1\n",
       "22        모던타코     기타 외식      19,690       7       299    3    3    0    4\n",
       "23        꽈르띠에        분식      36,100       3       342    1    3    0    5\n",
       "\n",
       "[5374 rows x 9 columns]"
      ]
     },
     "execution_count": 43,
     "metadata": {},
     "output_type": "execute_result"
    }
   ],
   "source": [
    "brand"
   ]
  },
  {
   "cell_type": "code",
   "execution_count": 75,
   "metadata": {},
   "outputs": [
    {
     "name": "stderr",
     "output_type": "stream",
     "text": [
      "Traceback (most recent call last):\n",
      "  File \"_pydevd_bundle/pydevd_cython.pyx\", line 1078, in _pydevd_bundle.pydevd_cython.PyDBFrame.trace_dispatch\n",
      "  File \"_pydevd_bundle/pydevd_cython.pyx\", line 297, in _pydevd_bundle.pydevd_cython.PyDBFrame.do_wait_suspend\n",
      "  File \"/Users/moon/opt/anaconda3/envs/ds_study/lib/python3.8/site-packages/debugpy/_vendored/pydevd/pydevd.py\", line 1976, in do_wait_suspend\n",
      "    keep_suspended = self._do_wait_suspend(thread, frame, event, arg, suspend_type, from_this_thread, frames_tracker)\n",
      "  File \"/Users/moon/opt/anaconda3/envs/ds_study/lib/python3.8/site-packages/debugpy/_vendored/pydevd/pydevd.py\", line 2011, in _do_wait_suspend\n",
      "    time.sleep(0.01)\n",
      "KeyboardInterrupt\n"
     ]
    },
    {
     "ename": "KeyboardInterrupt",
     "evalue": "",
     "output_type": "error",
     "traceback": [
      "\u001b[0;31m---------------------------------------------------------------------------\u001b[0m",
      "\u001b[0;31mKeyboardInterrupt\u001b[0m                         Traceback (most recent call last)",
      "\u001b[0;32m/var/folders/39/19s9x2053p9bhn6svbpwcm_h0000gn/T/ipykernel_80213/691143292.py\u001b[0m in \u001b[0;36m<module>\u001b[0;34m\u001b[0m\n\u001b[0;32m----> 1\u001b[0;31m brand_temp=brand_temp.rename(columns={'브랜드명':'brand', '중분류업종':'category', '창업비용(단위:천원)':'cost', \n\u001b[0m\u001b[1;32m      2\u001b[0m                                       \u001b[0;34m'본사업력(년)'\u001b[0m\u001b[0;34m:\u001b[0m\u001b[0;34m'year'\u001b[0m\u001b[0;34m,\u001b[0m \u001b[0;34m'본사부채비율(%)'\u001b[0m\u001b[0;34m:\u001b[0m\u001b[0;34m'debt_ratio'\u001b[0m\u001b[0;34m,\u001b[0m \u001b[0;34m'수익성'\u001b[0m\u001b[0;34m:\u001b[0m\u001b[0;34m'profit'\u001b[0m\u001b[0;34m,\u001b[0m\u001b[0;34m\u001b[0m\u001b[0;34m\u001b[0m\u001b[0m\n\u001b[1;32m      3\u001b[0m                                       '공정성':'fairness', '성장성':'growth', '안정성':'stability'})\n",
      "\u001b[0;32m/var/folders/39/19s9x2053p9bhn6svbpwcm_h0000gn/T/ipykernel_80213/691143292.py\u001b[0m in \u001b[0;36m<module>\u001b[0;34m\u001b[0m\n\u001b[0;32m----> 1\u001b[0;31m brand_temp=brand_temp.rename(columns={'브랜드명':'brand', '중분류업종':'category', '창업비용(단위:천원)':'cost', \n\u001b[0m\u001b[1;32m      2\u001b[0m                                       \u001b[0;34m'본사업력(년)'\u001b[0m\u001b[0;34m:\u001b[0m\u001b[0;34m'year'\u001b[0m\u001b[0;34m,\u001b[0m \u001b[0;34m'본사부채비율(%)'\u001b[0m\u001b[0;34m:\u001b[0m\u001b[0;34m'debt_ratio'\u001b[0m\u001b[0;34m,\u001b[0m \u001b[0;34m'수익성'\u001b[0m\u001b[0;34m:\u001b[0m\u001b[0;34m'profit'\u001b[0m\u001b[0;34m,\u001b[0m\u001b[0;34m\u001b[0m\u001b[0;34m\u001b[0m\u001b[0m\n\u001b[1;32m      3\u001b[0m                                       '공정성':'fairness', '성장성':'growth', '안정성':'stability'})\n",
      "\u001b[0;32m_pydevd_bundle/pydevd_cython.pyx\u001b[0m in \u001b[0;36m_pydevd_bundle.pydevd_cython.SafeCallWrapper.__call__\u001b[0;34m()\u001b[0m\n",
      "\u001b[0;32m_pydevd_bundle/pydevd_cython.pyx\u001b[0m in \u001b[0;36m_pydevd_bundle.pydevd_cython.PyDBFrame.trace_dispatch\u001b[0;34m()\u001b[0m\n",
      "\u001b[0;32m_pydevd_bundle/pydevd_cython.pyx\u001b[0m in \u001b[0;36m_pydevd_bundle.pydevd_cython.PyDBFrame.trace_dispatch\u001b[0;34m()\u001b[0m\n",
      "\u001b[0;32m_pydevd_bundle/pydevd_cython.pyx\u001b[0m in \u001b[0;36m_pydevd_bundle.pydevd_cython.PyDBFrame.trace_dispatch\u001b[0;34m()\u001b[0m\n",
      "\u001b[0;32m_pydevd_bundle/pydevd_cython.pyx\u001b[0m in \u001b[0;36m_pydevd_bundle.pydevd_cython.PyDBFrame.do_wait_suspend\u001b[0;34m()\u001b[0m\n",
      "\u001b[0;32m~/opt/anaconda3/envs/ds_study/lib/python3.8/site-packages/debugpy/_vendored/pydevd/pydevd.py\u001b[0m in \u001b[0;36mdo_wait_suspend\u001b[0;34m(self, thread, frame, event, arg, exception_type)\u001b[0m\n\u001b[1;32m   1974\u001b[0m \u001b[0;34m\u001b[0m\u001b[0m\n\u001b[1;32m   1975\u001b[0m             \u001b[0;32mwith\u001b[0m \u001b[0mself\u001b[0m\u001b[0;34m.\u001b[0m\u001b[0m_threads_suspended_single_notification\u001b[0m\u001b[0;34m.\u001b[0m\u001b[0mnotify_thread_suspended\u001b[0m\u001b[0;34m(\u001b[0m\u001b[0mthread_id\u001b[0m\u001b[0;34m,\u001b[0m \u001b[0mstop_reason\u001b[0m\u001b[0;34m)\u001b[0m\u001b[0;34m:\u001b[0m\u001b[0;34m\u001b[0m\u001b[0;34m\u001b[0m\u001b[0m\n\u001b[0;32m-> 1976\u001b[0;31m                 \u001b[0mkeep_suspended\u001b[0m \u001b[0;34m=\u001b[0m \u001b[0mself\u001b[0m\u001b[0;34m.\u001b[0m\u001b[0m_do_wait_suspend\u001b[0m\u001b[0;34m(\u001b[0m\u001b[0mthread\u001b[0m\u001b[0;34m,\u001b[0m \u001b[0mframe\u001b[0m\u001b[0;34m,\u001b[0m \u001b[0mevent\u001b[0m\u001b[0;34m,\u001b[0m \u001b[0marg\u001b[0m\u001b[0;34m,\u001b[0m \u001b[0msuspend_type\u001b[0m\u001b[0;34m,\u001b[0m \u001b[0mfrom_this_thread\u001b[0m\u001b[0;34m,\u001b[0m \u001b[0mframes_tracker\u001b[0m\u001b[0;34m)\u001b[0m\u001b[0;34m\u001b[0m\u001b[0;34m\u001b[0m\u001b[0m\n\u001b[0m\u001b[1;32m   1977\u001b[0m \u001b[0;34m\u001b[0m\u001b[0m\n\u001b[1;32m   1978\u001b[0m         \u001b[0mframes_list\u001b[0m \u001b[0;34m=\u001b[0m \u001b[0;32mNone\u001b[0m\u001b[0;34m\u001b[0m\u001b[0;34m\u001b[0m\u001b[0m\n",
      "\u001b[0;32m~/opt/anaconda3/envs/ds_study/lib/python3.8/site-packages/debugpy/_vendored/pydevd/pydevd.py\u001b[0m in \u001b[0;36m_do_wait_suspend\u001b[0;34m(self, thread, frame, event, arg, suspend_type, from_this_thread, frames_tracker)\u001b[0m\n\u001b[1;32m   2009\u001b[0m \u001b[0;34m\u001b[0m\u001b[0m\n\u001b[1;32m   2010\u001b[0m             \u001b[0mself\u001b[0m\u001b[0;34m.\u001b[0m\u001b[0mprocess_internal_commands\u001b[0m\u001b[0;34m(\u001b[0m\u001b[0;34m)\u001b[0m\u001b[0;34m\u001b[0m\u001b[0;34m\u001b[0m\u001b[0m\n\u001b[0;32m-> 2011\u001b[0;31m             \u001b[0mtime\u001b[0m\u001b[0;34m.\u001b[0m\u001b[0msleep\u001b[0m\u001b[0;34m(\u001b[0m\u001b[0;36m0.01\u001b[0m\u001b[0;34m)\u001b[0m\u001b[0;34m\u001b[0m\u001b[0;34m\u001b[0m\u001b[0m\n\u001b[0m\u001b[1;32m   2012\u001b[0m \u001b[0;34m\u001b[0m\u001b[0m\n\u001b[1;32m   2013\u001b[0m         \u001b[0mself\u001b[0m\u001b[0;34m.\u001b[0m\u001b[0mcancel_async_evaluation\u001b[0m\u001b[0;34m(\u001b[0m\u001b[0mget_current_thread_id\u001b[0m\u001b[0;34m(\u001b[0m\u001b[0mthread\u001b[0m\u001b[0;34m)\u001b[0m\u001b[0;34m,\u001b[0m \u001b[0mstr\u001b[0m\u001b[0;34m(\u001b[0m\u001b[0mid\u001b[0m\u001b[0;34m(\u001b[0m\u001b[0mframe\u001b[0m\u001b[0;34m)\u001b[0m\u001b[0;34m)\u001b[0m\u001b[0;34m)\u001b[0m\u001b[0;34m\u001b[0m\u001b[0;34m\u001b[0m\u001b[0m\n",
      "\u001b[0;31mKeyboardInterrupt\u001b[0m: "
     ]
    }
   ],
   "source": [
    "#칼럼이름을 영어로 변경\n",
    "brand=brand.rename(columns={'브랜드명':'brand', '중분류업종':'category', '창업비용(단위:천원)':'cost', \n",
    "                                      '본사업력(년)':'year', '본사부채비율(%)':'debt_ratio', '수익성':'profit',\n",
    "                                      '공정성':'fairness', '성장성':'growth', '안정성':'stability'})"
   ]
  },
  {
   "attachments": {},
   "cell_type": "markdown",
   "metadata": {},
   "source": [
    "--------------------------------------------------------"
   ]
  },
  {
   "cell_type": "code",
   "execution_count": 138,
   "metadata": {},
   "outputs": [
    {
     "name": "stderr",
     "output_type": "stream",
     "text": [
      "/Users/moon/opt/anaconda3/envs/ds_study/lib/python3.8/site-packages/seaborn/_decorators.py:36: FutureWarning: Pass the following variable as a keyword arg: x. From version 0.12, the only valid positional argument will be `data`, and passing other arguments without an explicit keyword will result in an error or misinterpretation.\n",
      "  warnings.warn(\n"
     ]
    },
    {
     "data": {
      "text/plain": [
       "<AxesSubplot:xlabel='year', ylabel='count'>"
      ]
     },
     "execution_count": 138,
     "metadata": {},
     "output_type": "execute_result"
    },
    {
     "data": {
      "image/png": "[encoded data removed]",
      "text/plain": [
       "<Figure size 432x288 with 1 Axes>"
      ]
     },
     "metadata": {
      "needs_background": "light"
     },
     "output_type": "display_data"
    }
   ],
   "source": [
    "#본사 업력 시각화\n",
    "# 5- 11년 가장 많음, 3년 이상의 신생 브랜드는 많으나, 11년 이후 급격히 떨어지는 추세\n",
    "plt.xticks(rotation=90, fontsize=8)\n",
    "sns.countplot(brand['year'])\n"
   ]
  },
  {
   "cell_type": "code",
   "execution_count": 130,
   "metadata": {},
   "outputs": [
    {
     "data": {
      "text/plain": [
       "<AxesSubplot:>"
      ]
     },
     "execution_count": 130,
     "metadata": {},
     "output_type": "execute_result"
    },
    {
     "data": {
      "image/png": "[encoded data removed]",
      "text/plain": [
       "<Figure size 432x288 with 2 Axes>"
      ]
     },
     "metadata": {
      "needs_background": "light"
     },
     "output_type": "display_data"
    }
   ],
   "source": [
    "sns.heatmap(data = brand[brand.columns[2:].tolist()].corr(), annot=True, \n",
    "fmt = '.2f', linewidths=.5, cmap='Blues')"
   ]
  },
  {
   "cell_type": "code",
   "execution_count": 134,
   "metadata": {},
   "outputs": [
    {
     "data": {
      "text/plain": [
       "<AxesSubplot:xlabel='year', ylabel='cost'>"
      ]
     },
     "execution_count": 134,
     "metadata": {},
     "output_type": "execute_result"
    },
    {
     "data": {
      "image/png": "[encoded data removed]",
      "text/plain": [
       "<Figure size 432x288 with 1 Axes>"
      ]
     },
     "metadata": {
      "needs_background": "light"
     },
     "output_type": "display_data"
    }
   ],
   "source": [
    "#30년 이상 된 브랜드는 창업 비용이 높은 경우가 거의 없음\n",
    "plt.ylim([0, 80000])\n",
    "sns.scatterplot(x='year',y='cost',data =brand )"
   ]
  },
  {
   "cell_type": "code",
   "execution_count": 135,
   "metadata": {},
   "outputs": [
    {
     "data": {
      "text/plain": [
       "<AxesSubplot:xlabel='year', ylabel='stability'>"
      ]
     },
     "execution_count": 135,
     "metadata": {},
     "output_type": "execute_result"
    },
    {
     "data": {
      "image/png": "[encoded data removed]",
      "text/plain": [
       "<Figure size 432x288 with 1 Axes>"
      ]
     },
     "metadata": {
      "needs_background": "light"
     },
     "output_type": "display_data"
    }
   ],
   "source": [
    "sns.scatterplot(x='year',y='stability',data =brand, )"
   ]
  },
  {
   "cell_type": "code",
   "execution_count": 69,
   "metadata": {},
   "outputs": [
    {
     "data": {
      "text/plain": [
       "<AxesSubplot:xlabel='category', ylabel='year'>"
      ]
     },
     "execution_count": 69,
     "metadata": {},
     "output_type": "execute_result"
    },
    {
     "data": {
      "image/png": "[encoded data removed]",
      "text/plain": [
       "<Figure size 432x288 with 1 Axes>"
      ]
     },
     "metadata": {
      "needs_background": "light"
     },
     "output_type": "display_data"
    }
   ],
   "source": [
    "#본사 업력이 100 이상되는 이상치 존재\n",
    "plt.xticks(rotation=90, fontsize=15)\n",
    "sns.boxplot(y = 'year', x = 'category', data =brand)"
   ]
  },
  {
   "cell_type": "code",
   "execution_count": 70,
   "metadata": {},
   "outputs": [
    {
     "data": {
      "text/html": [
       "<div>\n",
       "<style scoped>\n",
       "    .dataframe tbody tr th:only-of-type {\n",
       "        vertical-align: middle;\n",
       "    }\n",
       "\n",
       "    .dataframe tbody tr th {\n",
       "        vertical-align: top;\n",
       "    }\n",
       "\n",
       "    .dataframe thead th {\n",
       "        text-align: right;\n",
       "    }\n",
       "</style>\n",
       "<table border=\"1\" class=\"dataframe\">\n",
       "  <thead>\n",
       "    <tr style=\"text-align: right;\">\n",
       "      <th></th>\n",
       "      <th>brand</th>\n",
       "      <th>category</th>\n",
       "      <th>cost</th>\n",
       "      <th>year</th>\n",
       "      <th>debt_ratio</th>\n",
       "      <th>profit</th>\n",
       "      <th>fairness</th>\n",
       "      <th>growth</th>\n",
       "      <th>stability</th>\n",
       "    </tr>\n",
       "  </thead>\n",
       "  <tbody>\n",
       "    <tr>\n",
       "      <th>552</th>\n",
       "      <td>탕쓱잘튀기는집</td>\n",
       "      <td>한식</td>\n",
       "      <td>48100</td>\n",
       "      <td>110</td>\n",
       "      <td>15</td>\n",
       "      <td>4</td>\n",
       "      <td>3</td>\n",
       "      <td>4</td>\n",
       "      <td>2</td>\n",
       "    </tr>\n",
       "    <tr>\n",
       "      <th>1573</th>\n",
       "      <td>굽는치킨</td>\n",
       "      <td>치킨</td>\n",
       "      <td>14520</td>\n",
       "      <td>110</td>\n",
       "      <td>15</td>\n",
       "      <td>4</td>\n",
       "      <td>3</td>\n",
       "      <td>4</td>\n",
       "      <td>2</td>\n",
       "    </tr>\n",
       "    <tr>\n",
       "      <th>2493</th>\n",
       "      <td>엔틱정</td>\n",
       "      <td>주점</td>\n",
       "      <td>204100</td>\n",
       "      <td>103</td>\n",
       "      <td>480</td>\n",
       "      <td>4</td>\n",
       "      <td>3</td>\n",
       "      <td>0</td>\n",
       "      <td>5</td>\n",
       "    </tr>\n",
       "    <tr>\n",
       "      <th>4574</th>\n",
       "      <td>찬장</td>\n",
       "      <td>한식</td>\n",
       "      <td>177900</td>\n",
       "      <td>105</td>\n",
       "      <td>156</td>\n",
       "      <td>4</td>\n",
       "      <td>3</td>\n",
       "      <td>5</td>\n",
       "      <td>4</td>\n",
       "    </tr>\n",
       "  </tbody>\n",
       "</table>\n",
       "</div>"
      ],
      "text/plain": [
       "        brand category    cost  year  debt_ratio  profit  fairness  growth  \\\n",
       "552   탕쓱잘튀기는집       한식   48100   110          15       4         3       4   \n",
       "1573     굽는치킨       치킨   14520   110          15       4         3       4   \n",
       "2493      엔틱정       주점  204100   103         480       4         3       0   \n",
       "4574       찬장       한식  177900   105         156       4         3       5   \n",
       "\n",
       "      stability  \n",
       "552           2  \n",
       "1573          2  \n",
       "2493          5  \n",
       "4574          4  "
      ]
     },
     "execution_count": 70,
     "metadata": {},
     "output_type": "execute_result"
    }
   ],
   "source": [
    "brand[brand['year']>100]"
   ]
  },
  {
   "cell_type": "code",
   "execution_count": 74,
   "metadata": {},
   "outputs": [],
   "source": [
    "#이상치 제거\n",
    "brand=brand.drop([552,1573,2493, 4574])"
   ]
  },
  {
   "cell_type": "code",
   "execution_count": 75,
   "metadata": {},
   "outputs": [
    {
     "data": {
      "text/plain": [
       "<AxesSubplot:xlabel='category', ylabel='year'>"
      ]
     },
     "execution_count": 75,
     "metadata": {},
     "output_type": "execute_result"
    },
    {
     "data": {
      "image/png": "[encoded data removed]",
      "text/plain": [
       "<Figure size 432x288 with 1 Axes>"
      ]
     },
     "metadata": {
      "needs_background": "light"
     },
     "output_type": "display_data"
    }
   ],
   "source": [
    "plt.xticks(rotation=90, fontsize=15)\n",
    "sns.boxplot(y = 'year', x = 'category', data =brand)"
   ]
  },
  {
   "attachments": {},
   "cell_type": "markdown",
   "metadata": {},
   "source": [
    "---"
   ]
  },
  {
   "cell_type": "code",
   "execution_count": 48,
   "metadata": {},
   "outputs": [
    {
     "data": {
      "text/html": [
       "<div>\n",
       "<style scoped>\n",
       "    .dataframe tbody tr th:only-of-type {\n",
       "        vertical-align: middle;\n",
       "    }\n",
       "\n",
       "    .dataframe tbody tr th {\n",
       "        vertical-align: top;\n",
       "    }\n",
       "\n",
       "    .dataframe thead th {\n",
       "        text-align: right;\n",
       "    }\n",
       "</style>\n",
       "<table border=\"1\" class=\"dataframe\">\n",
       "  <thead>\n",
       "    <tr style=\"text-align: right;\">\n",
       "      <th></th>\n",
       "      <th>brand</th>\n",
       "      <th>category</th>\n",
       "      <th>cost</th>\n",
       "      <th>year</th>\n",
       "      <th>debt_ratio</th>\n",
       "      <th>profit</th>\n",
       "      <th>fairness</th>\n",
       "      <th>growth</th>\n",
       "      <th>stability</th>\n",
       "    </tr>\n",
       "  </thead>\n",
       "  <tbody>\n",
       "    <tr>\n",
       "      <th>4678</th>\n",
       "      <td>헬로티황차</td>\n",
       "      <td>음료 (커피 외)</td>\n",
       "      <td>92636000</td>\n",
       "      <td>6</td>\n",
       "      <td>284</td>\n",
       "      <td>1</td>\n",
       "      <td>3</td>\n",
       "      <td>5</td>\n",
       "      <td>5</td>\n",
       "    </tr>\n",
       "  </tbody>\n",
       "</table>\n",
       "</div>"
      ],
      "text/plain": [
       "      brand   category      cost  year  debt_ratio  profit  fairness  growth  \\\n",
       "4678  헬로티황차  음료 (커피 외)  92636000     6         284       1         3       5   \n",
       "\n",
       "      stability  \n",
       "4678          5  "
      ]
     },
     "execution_count": 48,
     "metadata": {},
     "output_type": "execute_result"
    }
   ],
   "source": [
    "#창업비용에 오기입 존재 #창업비용이 9백억\n",
    "brand[brand['brand']=='헬로티황차'] "
   ]
  },
  {
   "cell_type": "code",
   "execution_count": 59,
   "metadata": {},
   "outputs": [],
   "source": [
    "#오기입 데이터 삭제\n",
    "brand=brand.drop(4678)"
   ]
  },
  {
   "cell_type": "code",
   "execution_count": 62,
   "metadata": {},
   "outputs": [],
   "source": [
    "sns.set(rc = {'figure.figsize':(8,3)})"
   ]
  },
  {
   "cell_type": "code",
   "execution_count": 67,
   "metadata": {},
   "outputs": [
    {
     "data": {
      "text/plain": [
       "<AxesSubplot:xlabel='category', ylabel='cost'>"
      ]
     },
     "execution_count": 67,
     "metadata": {},
     "output_type": "execute_result"
    },
    {
     "data": {
      "image/png": "[encoded data removed]",
      "text/plain": [
       "<Figure size 432x288 with 1 Axes>"
      ]
     },
     "metadata": {
      "needs_background": "light"
     },
     "output_type": "display_data"
    }
   ],
   "source": [
    "#창업비용에 극한의 이상치 존재\n",
    "plt.xticks(rotation=90, fontsize=15)\n",
    "sns.boxplot(y = 'cost', x = 'category', data =brand)"
   ]
  },
  {
   "cell_type": "code",
   "execution_count": 22,
   "metadata": {},
   "outputs": [
    {
     "data": {
      "text/html": [
       "<div>\n",
       "<style scoped>\n",
       "    .dataframe tbody tr th:only-of-type {\n",
       "        vertical-align: middle;\n",
       "    }\n",
       "\n",
       "    .dataframe tbody tr th {\n",
       "        vertical-align: top;\n",
       "    }\n",
       "\n",
       "    .dataframe thead th {\n",
       "        text-align: right;\n",
       "    }\n",
       "</style>\n",
       "<table border=\"1\" class=\"dataframe\">\n",
       "  <thead>\n",
       "    <tr style=\"text-align: right;\">\n",
       "      <th></th>\n",
       "      <th>brand</th>\n",
       "      <th>category</th>\n",
       "      <th>cost</th>\n",
       "      <th>year</th>\n",
       "      <th>debt_ratio</th>\n",
       "      <th>profit</th>\n",
       "      <th>fairness</th>\n",
       "      <th>growth</th>\n",
       "      <th>stability</th>\n",
       "    </tr>\n",
       "  </thead>\n",
       "  <tbody>\n",
       "    <tr>\n",
       "      <th>2597</th>\n",
       "      <td>토다이(TODAI)</td>\n",
       "      <td>기타 외식</td>\n",
       "      <td>3491500</td>\n",
       "      <td>15</td>\n",
       "      <td>262</td>\n",
       "      <td>2</td>\n",
       "      <td>3</td>\n",
       "      <td>3</td>\n",
       "      <td>4</td>\n",
       "    </tr>\n",
       "    <tr>\n",
       "      <th>3739</th>\n",
       "      <td>더오리지널팬케이크하우스</td>\n",
       "      <td>기타 외식</td>\n",
       "      <td>1047250</td>\n",
       "      <td>32</td>\n",
       "      <td>140</td>\n",
       "      <td>5</td>\n",
       "      <td>3</td>\n",
       "      <td>2</td>\n",
       "      <td>4</td>\n",
       "    </tr>\n",
       "    <tr>\n",
       "      <th>3741</th>\n",
       "      <td>에델바이스</td>\n",
       "      <td>서양식</td>\n",
       "      <td>1179900</td>\n",
       "      <td>15</td>\n",
       "      <td>232</td>\n",
       "      <td>3</td>\n",
       "      <td>3</td>\n",
       "      <td>4</td>\n",
       "      <td>4</td>\n",
       "    </tr>\n",
       "    <tr>\n",
       "      <th>3871</th>\n",
       "      <td>Dairy</td>\n",
       "      <td>패스트푸드</td>\n",
       "      <td>1918000</td>\n",
       "      <td>61</td>\n",
       "      <td>1390</td>\n",
       "      <td>5</td>\n",
       "      <td>3</td>\n",
       "      <td>3</td>\n",
       "      <td>5</td>\n",
       "    </tr>\n",
       "  </tbody>\n",
       "</table>\n",
       "</div>"
      ],
      "text/plain": [
       "             brand category     cost  year  debt_ratio  profit  fairness  \\\n",
       "2597    토다이(TODAI)    기타 외식  3491500    15         262       2         3   \n",
       "3739  더오리지널팬케이크하우스    기타 외식  1047250    32         140       5         3   \n",
       "3741         에델바이스      서양식  1179900    15         232       3         3   \n",
       "3871         Dairy    패스트푸드  1918000    61        1390       5         3   \n",
       "\n",
       "      growth  stability  \n",
       "2597       3          4  \n",
       "3739       2          4  \n",
       "3741       4          4  \n",
       "3871       3          5  "
      ]
     },
     "execution_count": 22,
     "metadata": {},
     "output_type": "execute_result"
    }
   ],
   "source": [
    "brand[brand['cost']>1000000]"
   ]
  },
  {
   "cell_type": "code",
   "execution_count": 23,
   "metadata": {},
   "outputs": [],
   "source": [
    "#cost가 1500000가 넘는 것 삭제\n",
    "brand=brand.drop(2597)\n",
    "brand=brand.drop(3871)"
   ]
  },
  {
   "cell_type": "code",
   "execution_count": 19,
   "metadata": {},
   "outputs": [
    {
     "data": {
      "text/html": [
       "<div>\n",
       "<style scoped>\n",
       "    .dataframe tbody tr th:only-of-type {\n",
       "        vertical-align: middle;\n",
       "    }\n",
       "\n",
       "    .dataframe tbody tr th {\n",
       "        vertical-align: top;\n",
       "    }\n",
       "\n",
       "    .dataframe thead th {\n",
       "        text-align: right;\n",
       "    }\n",
       "</style>\n",
       "<table border=\"1\" class=\"dataframe\">\n",
       "  <thead>\n",
       "    <tr style=\"text-align: right;\">\n",
       "      <th></th>\n",
       "      <th>brand</th>\n",
       "      <th>category</th>\n",
       "      <th>cost</th>\n",
       "      <th>year</th>\n",
       "      <th>debt_ratio</th>\n",
       "      <th>profit</th>\n",
       "      <th>fairness</th>\n",
       "      <th>growth</th>\n",
       "      <th>stability</th>\n",
       "    </tr>\n",
       "  </thead>\n",
       "  <tbody>\n",
       "    <tr>\n",
       "      <th>0</th>\n",
       "      <td>이디야커피</td>\n",
       "      <td>커피</td>\n",
       "      <td>129130</td>\n",
       "      <td>21</td>\n",
       "      <td>88</td>\n",
       "      <td>4</td>\n",
       "      <td>3</td>\n",
       "      <td>3</td>\n",
       "      <td>3</td>\n",
       "    </tr>\n",
       "    <tr>\n",
       "      <th>1</th>\n",
       "      <td>비비큐</td>\n",
       "      <td>치킨</td>\n",
       "      <td>90789</td>\n",
       "      <td>28</td>\n",
       "      <td>58</td>\n",
       "      <td>3</td>\n",
       "      <td>3</td>\n",
       "      <td>4</td>\n",
       "      <td>3</td>\n",
       "    </tr>\n",
       "    <tr>\n",
       "      <th>2</th>\n",
       "      <td>비비큐(BBQ)</td>\n",
       "      <td>치킨</td>\n",
       "      <td>256548</td>\n",
       "      <td>28</td>\n",
       "      <td>1500</td>\n",
       "      <td>2</td>\n",
       "      <td>2</td>\n",
       "      <td>3</td>\n",
       "      <td>5</td>\n",
       "    </tr>\n",
       "    <tr>\n",
       "      <th>3</th>\n",
       "      <td>비에이치씨(BHC)</td>\n",
       "      <td>치킨</td>\n",
       "      <td>85436</td>\n",
       "      <td>19</td>\n",
       "      <td>205</td>\n",
       "      <td>5</td>\n",
       "      <td>3</td>\n",
       "      <td>4</td>\n",
       "      <td>4</td>\n",
       "    </tr>\n",
       "    <tr>\n",
       "      <th>4</th>\n",
       "      <td>배스킨라빈스</td>\n",
       "      <td>아이스크림/빙수</td>\n",
       "      <td>323350</td>\n",
       "      <td>37</td>\n",
       "      <td>24</td>\n",
       "      <td>4</td>\n",
       "      <td>3</td>\n",
       "      <td>3</td>\n",
       "      <td>2</td>\n",
       "    </tr>\n",
       "    <tr>\n",
       "      <th>...</th>\n",
       "      <td>...</td>\n",
       "      <td>...</td>\n",
       "      <td>...</td>\n",
       "      <td>...</td>\n",
       "      <td>...</td>\n",
       "      <td>...</td>\n",
       "      <td>...</td>\n",
       "      <td>...</td>\n",
       "      <td>...</td>\n",
       "    </tr>\n",
       "    <tr>\n",
       "      <th>5369</th>\n",
       "      <td>왕짱구</td>\n",
       "      <td>기타 외식</td>\n",
       "      <td>57050</td>\n",
       "      <td>18</td>\n",
       "      <td>3</td>\n",
       "      <td>5</td>\n",
       "      <td>3</td>\n",
       "      <td>3</td>\n",
       "      <td>2</td>\n",
       "    </tr>\n",
       "    <tr>\n",
       "      <th>5370</th>\n",
       "      <td>심민속촌</td>\n",
       "      <td>기타 외식</td>\n",
       "      <td>395100</td>\n",
       "      <td>8</td>\n",
       "      <td>102</td>\n",
       "      <td>3</td>\n",
       "      <td>3</td>\n",
       "      <td>2</td>\n",
       "      <td>3</td>\n",
       "    </tr>\n",
       "    <tr>\n",
       "      <th>5371</th>\n",
       "      <td>오늘게장</td>\n",
       "      <td>한식</td>\n",
       "      <td>35100</td>\n",
       "      <td>3</td>\n",
       "      <td>-3594</td>\n",
       "      <td>2</td>\n",
       "      <td>3</td>\n",
       "      <td>0</td>\n",
       "      <td>1</td>\n",
       "    </tr>\n",
       "    <tr>\n",
       "      <th>5372</th>\n",
       "      <td>모던타코</td>\n",
       "      <td>기타 외식</td>\n",
       "      <td>19690</td>\n",
       "      <td>7</td>\n",
       "      <td>299</td>\n",
       "      <td>3</td>\n",
       "      <td>3</td>\n",
       "      <td>0</td>\n",
       "      <td>4</td>\n",
       "    </tr>\n",
       "    <tr>\n",
       "      <th>5373</th>\n",
       "      <td>꽈르띠에</td>\n",
       "      <td>분식</td>\n",
       "      <td>36100</td>\n",
       "      <td>3</td>\n",
       "      <td>342</td>\n",
       "      <td>1</td>\n",
       "      <td>3</td>\n",
       "      <td>0</td>\n",
       "      <td>5</td>\n",
       "    </tr>\n",
       "  </tbody>\n",
       "</table>\n",
       "<p>5374 rows × 9 columns</p>\n",
       "</div>"
      ],
      "text/plain": [
       "           brand  category    cost  year  debt_ratio  profit  fairness  \\\n",
       "0          이디야커피        커피  129130    21          88       4         3   \n",
       "1            비비큐        치킨   90789    28          58       3         3   \n",
       "2       비비큐(BBQ)        치킨  256548    28        1500       2         2   \n",
       "3     비에이치씨(BHC)        치킨   85436    19         205       5         3   \n",
       "4         배스킨라빈스  아이스크림/빙수  323350    37          24       4         3   \n",
       "...          ...       ...     ...   ...         ...     ...       ...   \n",
       "5369         왕짱구     기타 외식   57050    18           3       5         3   \n",
       "5370        심민속촌     기타 외식  395100     8         102       3         3   \n",
       "5371        오늘게장        한식   35100     3       -3594       2         3   \n",
       "5372        모던타코     기타 외식   19690     7         299       3         3   \n",
       "5373        꽈르띠에        분식   36100     3         342       1         3   \n",
       "\n",
       "      growth  stability  \n",
       "0          3          3  \n",
       "1          4          3  \n",
       "2          3          5  \n",
       "3          4          4  \n",
       "4          3          2  \n",
       "...      ...        ...  \n",
       "5369       3          2  \n",
       "5370       2          3  \n",
       "5371       0          1  \n",
       "5372       0          4  \n",
       "5373       0          5  \n",
       "\n",
       "[5374 rows x 9 columns]"
      ]
     },
     "execution_count": 19,
     "metadata": {},
     "output_type": "execute_result"
    }
   ],
   "source": [
    "brand"
   ]
  },
  {
   "cell_type": "code",
   "execution_count": 33,
   "metadata": {},
   "outputs": [
    {
     "data": {
      "text/plain": [
       "<AxesSubplot:xlabel='category', ylabel='cost'>"
      ]
     },
     "execution_count": 33,
     "metadata": {},
     "output_type": "execute_result"
    },
    {
     "data": {
      "image/png": "[encoded data removed]",
      "text/plain": [
       "<Figure size 432x288 with 1 Axes>"
      ]
     },
     "metadata": {
      "needs_background": "light"
     },
     "output_type": "display_data"
    }
   ],
   "source": [
    "plt.xticks(rotation=90, fontsize=15)\n",
    "sns.boxplot(y = 'cost', x = 'category', data =brand)"
   ]
  },
  {
   "cell_type": "code",
   "execution_count": 140,
   "metadata": {},
   "outputs": [
    {
     "data": {
      "text/plain": [
       "1    1203\n",
       "3    1089\n",
       "5    1050\n",
       "2    1041\n",
       "4     985\n",
       "0       1\n",
       "Name: profit, dtype: int64"
      ]
     },
     "execution_count": 140,
     "metadata": {},
     "output_type": "execute_result"
    }
   ],
   "source": [
    "brand['profit'].value_counts()"
   ]
  },
  {
   "cell_type": "code",
   "execution_count": 141,
   "metadata": {},
   "outputs": [
    {
     "data": {
      "text/plain": [
       "2    1068\n",
       "1     940\n",
       "3     906\n",
       "4     895\n",
       "5     834\n",
       "0     726\n",
       "Name: growth, dtype: int64"
      ]
     },
     "execution_count": 141,
     "metadata": {},
     "output_type": "execute_result"
    }
   ],
   "source": [
    "brand['growth'].value_counts()"
   ]
  },
  {
   "cell_type": "code",
   "execution_count": 142,
   "metadata": {},
   "outputs": [
    {
     "data": {
      "text/plain": [
       "3    5355\n",
       "2      11\n",
       "1       3\n",
       "Name: fairness, dtype: int64"
      ]
     },
     "execution_count": 142,
     "metadata": {},
     "output_type": "execute_result"
    }
   ],
   "source": [
    "#다른 것과 달리  fairness는 3이 최대\n",
    "brand['fairness'].value_counts()"
   ]
  },
  {
   "cell_type": "code",
   "execution_count": 143,
   "metadata": {},
   "outputs": [
    {
     "data": {
      "text/plain": [
       "1    1186\n",
       "2    1103\n",
       "5    1062\n",
       "4    1041\n",
       "3     977\n",
       "Name: stability, dtype: int64"
      ]
     },
     "execution_count": 143,
     "metadata": {},
     "output_type": "execute_result"
    }
   ],
   "source": [
    "brand['stability'].value_counts()"
   ]
  },
  {
   "cell_type": "code",
   "execution_count": 124,
   "metadata": {},
   "outputs": [],
   "source": [
    "brand['cost']=pd.to_numeric(brand['cost'])"
   ]
  },
  {
   "cell_type": "code",
   "execution_count": 101,
   "metadata": {},
   "outputs": [],
   "source": [
    "#cost의 단위를 천원 -> 만원 으로 변경\n",
    "brand['cost']=[str(i)[:-1] for i in brand['cost']]"
   ]
  },
  {
   "cell_type": "code",
   "execution_count": 125,
   "metadata": {},
   "outputs": [
    {
     "data": {
      "text/html": [
       "<div>\n",
       "<style scoped>\n",
       "    .dataframe tbody tr th:only-of-type {\n",
       "        vertical-align: middle;\n",
       "    }\n",
       "\n",
       "    .dataframe tbody tr th {\n",
       "        vertical-align: top;\n",
       "    }\n",
       "\n",
       "    .dataframe thead th {\n",
       "        text-align: right;\n",
       "    }\n",
       "</style>\n",
       "<table border=\"1\" class=\"dataframe\">\n",
       "  <thead>\n",
       "    <tr style=\"text-align: right;\">\n",
       "      <th></th>\n",
       "      <th>brand</th>\n",
       "      <th>category</th>\n",
       "      <th>cost</th>\n",
       "      <th>year</th>\n",
       "      <th>debt_ratio</th>\n",
       "      <th>profit</th>\n",
       "      <th>fairness</th>\n",
       "      <th>growth</th>\n",
       "      <th>stability</th>\n",
       "    </tr>\n",
       "  </thead>\n",
       "  <tbody>\n",
       "    <tr>\n",
       "      <th>0</th>\n",
       "      <td>이디야커피</td>\n",
       "      <td>커피</td>\n",
       "      <td>12913.0</td>\n",
       "      <td>21</td>\n",
       "      <td>88</td>\n",
       "      <td>4</td>\n",
       "      <td>3</td>\n",
       "      <td>3</td>\n",
       "      <td>3</td>\n",
       "    </tr>\n",
       "    <tr>\n",
       "      <th>1</th>\n",
       "      <td>비비큐</td>\n",
       "      <td>치킨</td>\n",
       "      <td>9078.0</td>\n",
       "      <td>28</td>\n",
       "      <td>58</td>\n",
       "      <td>3</td>\n",
       "      <td>3</td>\n",
       "      <td>4</td>\n",
       "      <td>3</td>\n",
       "    </tr>\n",
       "    <tr>\n",
       "      <th>2</th>\n",
       "      <td>비비큐(BBQ)</td>\n",
       "      <td>치킨</td>\n",
       "      <td>25654.0</td>\n",
       "      <td>28</td>\n",
       "      <td>1500</td>\n",
       "      <td>2</td>\n",
       "      <td>2</td>\n",
       "      <td>3</td>\n",
       "      <td>5</td>\n",
       "    </tr>\n",
       "    <tr>\n",
       "      <th>3</th>\n",
       "      <td>비에이치씨(BHC)</td>\n",
       "      <td>치킨</td>\n",
       "      <td>8543.0</td>\n",
       "      <td>19</td>\n",
       "      <td>205</td>\n",
       "      <td>5</td>\n",
       "      <td>3</td>\n",
       "      <td>4</td>\n",
       "      <td>4</td>\n",
       "    </tr>\n",
       "    <tr>\n",
       "      <th>4</th>\n",
       "      <td>배스킨라빈스</td>\n",
       "      <td>아이스크림/빙수</td>\n",
       "      <td>32335.0</td>\n",
       "      <td>37</td>\n",
       "      <td>24</td>\n",
       "      <td>4</td>\n",
       "      <td>3</td>\n",
       "      <td>3</td>\n",
       "      <td>2</td>\n",
       "    </tr>\n",
       "    <tr>\n",
       "      <th>...</th>\n",
       "      <td>...</td>\n",
       "      <td>...</td>\n",
       "      <td>...</td>\n",
       "      <td>...</td>\n",
       "      <td>...</td>\n",
       "      <td>...</td>\n",
       "      <td>...</td>\n",
       "      <td>...</td>\n",
       "      <td>...</td>\n",
       "    </tr>\n",
       "    <tr>\n",
       "      <th>5369</th>\n",
       "      <td>왕짱구</td>\n",
       "      <td>기타 외식</td>\n",
       "      <td>5705.0</td>\n",
       "      <td>18</td>\n",
       "      <td>3</td>\n",
       "      <td>5</td>\n",
       "      <td>3</td>\n",
       "      <td>3</td>\n",
       "      <td>2</td>\n",
       "    </tr>\n",
       "    <tr>\n",
       "      <th>5370</th>\n",
       "      <td>심민속촌</td>\n",
       "      <td>기타 외식</td>\n",
       "      <td>39510.0</td>\n",
       "      <td>8</td>\n",
       "      <td>102</td>\n",
       "      <td>3</td>\n",
       "      <td>3</td>\n",
       "      <td>2</td>\n",
       "      <td>3</td>\n",
       "    </tr>\n",
       "    <tr>\n",
       "      <th>5371</th>\n",
       "      <td>오늘게장</td>\n",
       "      <td>한식</td>\n",
       "      <td>3510.0</td>\n",
       "      <td>3</td>\n",
       "      <td>-3594</td>\n",
       "      <td>2</td>\n",
       "      <td>3</td>\n",
       "      <td>0</td>\n",
       "      <td>1</td>\n",
       "    </tr>\n",
       "    <tr>\n",
       "      <th>5372</th>\n",
       "      <td>모던타코</td>\n",
       "      <td>기타 외식</td>\n",
       "      <td>1969.0</td>\n",
       "      <td>7</td>\n",
       "      <td>299</td>\n",
       "      <td>3</td>\n",
       "      <td>3</td>\n",
       "      <td>0</td>\n",
       "      <td>4</td>\n",
       "    </tr>\n",
       "    <tr>\n",
       "      <th>5373</th>\n",
       "      <td>꽈르띠에</td>\n",
       "      <td>분식</td>\n",
       "      <td>3610.0</td>\n",
       "      <td>3</td>\n",
       "      <td>342</td>\n",
       "      <td>1</td>\n",
       "      <td>3</td>\n",
       "      <td>0</td>\n",
       "      <td>5</td>\n",
       "    </tr>\n",
       "  </tbody>\n",
       "</table>\n",
       "<p>5374 rows × 9 columns</p>\n",
       "</div>"
      ],
      "text/plain": [
       "           brand  category     cost  year  debt_ratio  profit  fairness  \\\n",
       "0          이디야커피        커피  12913.0    21          88       4         3   \n",
       "1            비비큐        치킨   9078.0    28          58       3         3   \n",
       "2       비비큐(BBQ)        치킨  25654.0    28        1500       2         2   \n",
       "3     비에이치씨(BHC)        치킨   8543.0    19         205       5         3   \n",
       "4         배스킨라빈스  아이스크림/빙수  32335.0    37          24       4         3   \n",
       "...          ...       ...      ...   ...         ...     ...       ...   \n",
       "5369         왕짱구     기타 외식   5705.0    18           3       5         3   \n",
       "5370        심민속촌     기타 외식  39510.0     8         102       3         3   \n",
       "5371        오늘게장        한식   3510.0     3       -3594       2         3   \n",
       "5372        모던타코     기타 외식   1969.0     7         299       3         3   \n",
       "5373        꽈르띠에        분식   3610.0     3         342       1         3   \n",
       "\n",
       "      growth  stability  \n",
       "0          3          3  \n",
       "1          4          3  \n",
       "2          3          5  \n",
       "3          4          4  \n",
       "4          3          2  \n",
       "...      ...        ...  \n",
       "5369       3          2  \n",
       "5370       2          3  \n",
       "5371       0          1  \n",
       "5372       0          4  \n",
       "5373       0          5  \n",
       "\n",
       "[5374 rows x 9 columns]"
      ]
     },
     "execution_count": 125,
     "metadata": {},
     "output_type": "execute_result"
    }
   ],
   "source": [
    "brand"
   ]
  },
  {
   "cell_type": "code",
   "execution_count": 129,
   "metadata": {},
   "outputs": [],
   "source": [
    "brand.to_csv(\"brand_del_outlier.csv\")"
   ]
  }
 ],
 "metadata": {
  "kernelspec": {
   "display_name": "ds_study",
   "language": "python",
   "name": "python3"
  },
  "language_info": {
   "codemirror_mode": {
    "name": "ipython",
    "version": 3
   },
   "file_extension": ".py",
   "mimetype": "text/x-python",
   "name": "python",
   "nbconvert_exporter": "python",
   "pygments_lexer": "ipython3",
   "version": "3.8.12 (default, Oct 12 2021, 06:23:56) \n[Clang 10.0.0 ]"
  },
  "orig_nbformat": 4,
  "vscode": {
   "interpreter": {
    "hash": "ee17d55dc0ca9bce57a88b37df1d91484e5972bfb6f99f6b64b7675185bf3789"
   }
  }
 },
 "nbformat": 4,
 "nbformat_minor": 2
}
